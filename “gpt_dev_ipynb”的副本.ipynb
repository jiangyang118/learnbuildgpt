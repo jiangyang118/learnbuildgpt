{
  "nbformat": 4,
  "nbformat_minor": 0,
  "metadata": {
    "colab": {
      "provenance": [],
      "include_colab_link": true
    },
    "kernelspec": {
      "name": "python3",
      "display_name": "Python 3"
    },
    "language_info": {
      "name": "python"
    }
  },
  "cells": [
    {
      "cell_type": "markdown",
      "metadata": {
        "id": "view-in-github",
        "colab_type": "text"
      },
      "source": [
        "<a href=\"https://colab.research.google.com/github/jiangyang118/learnbuildgpt/blob/main/%E2%80%9Cgpt_dev_ipynb%E2%80%9D%E7%9A%84%E5%89%AF%E6%9C%AC.ipynb\" target=\"_parent\"><img src=\"https://colab.research.google.com/assets/colab-badge.svg\" alt=\"Open In Colab\"/></a>"
      ]
    },
    {
      "cell_type": "markdown",
      "source": [
        "## Building a GPT\n",
        "\n",
        "Companion notebook to the [Zero To Hero](https://karpathy.ai/zero-to-hero.html) video on GPT."
      ],
      "metadata": {
        "id": "wJpXpmjEYC_T"
      }
    },
    {
      "cell_type": "code",
      "execution_count": 3,
      "metadata": {
        "colab": {
          "base_uri": "https://localhost:8080/"
        },
        "id": "h5hjCcLDr2WC",
        "outputId": "160b280f-8311-4d56-faa4-726526747a63"
      },
      "outputs": [
        {
          "output_type": "stream",
          "name": "stdout",
          "text": [
            "--2024-02-27 02:34:14--  https://raw.githubusercontent.com/karpathy/char-rnn/master/data/tinyshakespeare/input.txt\n",
            "Resolving raw.githubusercontent.com (raw.githubusercontent.com)... 185.199.108.133, 185.199.109.133, 185.199.110.133, ...\n",
            "Connecting to raw.githubusercontent.com (raw.githubusercontent.com)|185.199.108.133|:443... connected.\n",
            "HTTP request sent, awaiting response... 200 OK\n",
            "Length: 1115394 (1.1M) [text/plain]\n",
            "Saving to: ‘input.txt’\n",
            "\n",
            "\rinput.txt             0%[                    ]       0  --.-KB/s               \rinput.txt           100%[===================>]   1.06M  --.-KB/s    in 0.05s   \n",
            "\n",
            "2024-02-27 02:34:14 (19.7 MB/s) - ‘input.txt’ saved [1115394/1115394]\n",
            "\n"
          ]
        }
      ],
      "source": [
        "# We always start with a dataset to train on. Let's download the tiny shakespeare dataset\n",
        "!wget https://raw.githubusercontent.com/karpathy/char-rnn/master/data/tinyshakespeare/input.txt"
      ]
    },
    {
      "cell_type": "markdown",
      "source": [
        "这是一个测试，用来预测相关大小。"
      ],
      "metadata": {
        "id": "pkhKvq0TTDVn"
      }
    },
    {
      "cell_type": "code",
      "source": [
        "# read it in to inspect it\n",
        "with open('input.txt', 'r', encoding='utf-8') as f:\n",
        "    text = f.read()"
      ],
      "metadata": {
        "id": "O6medjfRsLD9"
      },
      "execution_count": 4,
      "outputs": []
    },
    {
      "cell_type": "code",
      "source": [
        "print(\"length of dataset in characters: \", len(text))"
      ],
      "metadata": {
        "colab": {
          "base_uri": "https://localhost:8080/"
        },
        "id": "6xWI_VyAsN8F",
        "outputId": "08e4adbc-1afd-4614-8e43-1617ecee0cf1"
      },
      "execution_count": 5,
      "outputs": [
        {
          "output_type": "stream",
          "name": "stdout",
          "text": [
            "length of dataset in characters:  1115394\n"
          ]
        }
      ]
    },
    {
      "cell_type": "code",
      "source": [
        "# let's look at the first 1000 characters\n",
        "print(text[:1000])"
      ],
      "metadata": {
        "colab": {
          "base_uri": "https://localhost:8080/"
        },
        "id": "2c5V0FvqseE0",
        "outputId": "b8034b49-14cc-460e-a6a6-976ff2d6e6c1"
      },
      "execution_count": 6,
      "outputs": [
        {
          "output_type": "stream",
          "name": "stdout",
          "text": [
            "First Citizen:\n",
            "Before we proceed any further, hear me speak.\n",
            "\n",
            "All:\n",
            "Speak, speak.\n",
            "\n",
            "First Citizen:\n",
            "You are all resolved rather to die than to famish?\n",
            "\n",
            "All:\n",
            "Resolved. resolved.\n",
            "\n",
            "First Citizen:\n",
            "First, you know Caius Marcius is chief enemy to the people.\n",
            "\n",
            "All:\n",
            "We know't, we know't.\n",
            "\n",
            "First Citizen:\n",
            "Let us kill him, and we'll have corn at our own price.\n",
            "Is't a verdict?\n",
            "\n",
            "All:\n",
            "No more talking on't; let it be done: away, away!\n",
            "\n",
            "Second Citizen:\n",
            "One word, good citizens.\n",
            "\n",
            "First Citizen:\n",
            "We are accounted poor citizens, the patricians good.\n",
            "What authority surfeits on would relieve us: if they\n",
            "would yield us but the superfluity, while it were\n",
            "wholesome, we might guess they relieved us humanely;\n",
            "but they think we are too dear: the leanness that\n",
            "afflicts us, the object of our misery, is as an\n",
            "inventory to particularise their abundance; our\n",
            "sufferance is a gain to them Let us revenge this with\n",
            "our pikes, ere we become rakes: for the gods know I\n",
            "speak this in hunger for bread, not in thirst for revenge.\n",
            "\n",
            "\n"
          ]
        }
      ]
    },
    {
      "cell_type": "code",
      "source": [
        "# here are all the unique characters that occur in this text\n",
        "chars = sorted(list(set(text)))\n",
        "vocab_size = len(chars)\n",
        "print(''.join(chars))\n",
        "print(vocab_size)"
      ],
      "metadata": {
        "colab": {
          "base_uri": "https://localhost:8080/"
        },
        "id": "0e-Rbyr8sfM8",
        "outputId": "603b9356-96f5-4828-aeb6-23782a2c89b4"
      },
      "execution_count": 7,
      "outputs": [
        {
          "output_type": "stream",
          "name": "stdout",
          "text": [
            "\n",
            " !$&',-.3:;?ABCDEFGHIJKLMNOPQRSTUVWXYZabcdefghijklmnopqrstuvwxyz\n",
            "65\n"
          ]
        }
      ]
    },
    {
      "cell_type": "code",
      "source": [
        "# create a mapping from characters to integers\n",
        "stoi = { ch:i for i,ch in enumerate(chars) }\n",
        "itos = { i:ch for i,ch in enumerate(chars) }\n",
        "encode = lambda s: [stoi[c] for c in s] # encoder: take a string, output a list of integers\n",
        "decode = lambda l: ''.join([itos[i] for i in l]) # decoder: take a list of integers, output a string\n",
        "\n",
        "print(encode(\"there !$\"))\n",
        "print(decode(encode(\"hii there\")))"
      ],
      "metadata": {
        "colab": {
          "base_uri": "https://localhost:8080/"
        },
        "id": "Yw1LKNCgwjj1",
        "outputId": "320578de-f007-44d9-b241-92a5b5af8172"
      },
      "execution_count": 8,
      "outputs": [
        {
          "output_type": "stream",
          "name": "stdout",
          "text": [
            "[58, 46, 43, 56, 43, 1, 2, 3]\n",
            "hii there\n"
          ]
        }
      ]
    },
    {
      "cell_type": "code",
      "source": [
        "# let's now encode the entire text dataset and store it into a torch.Tensor\n",
        "import torch # we use PyTorch: https://pytorch.org\n",
        "data = torch.tensor(encode(text), dtype=torch.long)\n",
        "print(data.shape, data.dtype)\n",
        "print(data[:1000]) # the 1000 characters we looked at earier will to the GPT look like this"
      ],
      "metadata": {
        "colab": {
          "base_uri": "https://localhost:8080/"
        },
        "id": "YJb0OXPwzvqg",
        "outputId": "2b5156d5-cdbe-4aec-8b46-3b3a9b978448"
      },
      "execution_count": 9,
      "outputs": [
        {
          "output_type": "stream",
          "name": "stdout",
          "text": [
            "torch.Size([1115394]) torch.int64\n",
            "tensor([18, 47, 56, 57, 58,  1, 15, 47, 58, 47, 64, 43, 52, 10,  0, 14, 43, 44,\n",
            "        53, 56, 43,  1, 61, 43,  1, 54, 56, 53, 41, 43, 43, 42,  1, 39, 52, 63,\n",
            "         1, 44, 59, 56, 58, 46, 43, 56,  6,  1, 46, 43, 39, 56,  1, 51, 43,  1,\n",
            "        57, 54, 43, 39, 49,  8,  0,  0, 13, 50, 50, 10,  0, 31, 54, 43, 39, 49,\n",
            "         6,  1, 57, 54, 43, 39, 49,  8,  0,  0, 18, 47, 56, 57, 58,  1, 15, 47,\n",
            "        58, 47, 64, 43, 52, 10,  0, 37, 53, 59,  1, 39, 56, 43,  1, 39, 50, 50,\n",
            "         1, 56, 43, 57, 53, 50, 60, 43, 42,  1, 56, 39, 58, 46, 43, 56,  1, 58,\n",
            "        53,  1, 42, 47, 43,  1, 58, 46, 39, 52,  1, 58, 53,  1, 44, 39, 51, 47,\n",
            "        57, 46, 12,  0,  0, 13, 50, 50, 10,  0, 30, 43, 57, 53, 50, 60, 43, 42,\n",
            "         8,  1, 56, 43, 57, 53, 50, 60, 43, 42,  8,  0,  0, 18, 47, 56, 57, 58,\n",
            "         1, 15, 47, 58, 47, 64, 43, 52, 10,  0, 18, 47, 56, 57, 58,  6,  1, 63,\n",
            "        53, 59,  1, 49, 52, 53, 61,  1, 15, 39, 47, 59, 57,  1, 25, 39, 56, 41,\n",
            "        47, 59, 57,  1, 47, 57,  1, 41, 46, 47, 43, 44,  1, 43, 52, 43, 51, 63,\n",
            "         1, 58, 53,  1, 58, 46, 43,  1, 54, 43, 53, 54, 50, 43,  8,  0,  0, 13,\n",
            "        50, 50, 10,  0, 35, 43,  1, 49, 52, 53, 61,  5, 58,  6,  1, 61, 43,  1,\n",
            "        49, 52, 53, 61,  5, 58,  8,  0,  0, 18, 47, 56, 57, 58,  1, 15, 47, 58,\n",
            "        47, 64, 43, 52, 10,  0, 24, 43, 58,  1, 59, 57,  1, 49, 47, 50, 50,  1,\n",
            "        46, 47, 51,  6,  1, 39, 52, 42,  1, 61, 43,  5, 50, 50,  1, 46, 39, 60,\n",
            "        43,  1, 41, 53, 56, 52,  1, 39, 58,  1, 53, 59, 56,  1, 53, 61, 52,  1,\n",
            "        54, 56, 47, 41, 43,  8,  0, 21, 57,  5, 58,  1, 39,  1, 60, 43, 56, 42,\n",
            "        47, 41, 58, 12,  0,  0, 13, 50, 50, 10,  0, 26, 53,  1, 51, 53, 56, 43,\n",
            "         1, 58, 39, 50, 49, 47, 52, 45,  1, 53, 52,  5, 58, 11,  1, 50, 43, 58,\n",
            "         1, 47, 58,  1, 40, 43,  1, 42, 53, 52, 43, 10,  1, 39, 61, 39, 63,  6,\n",
            "         1, 39, 61, 39, 63,  2,  0,  0, 31, 43, 41, 53, 52, 42,  1, 15, 47, 58,\n",
            "        47, 64, 43, 52, 10,  0, 27, 52, 43,  1, 61, 53, 56, 42,  6,  1, 45, 53,\n",
            "        53, 42,  1, 41, 47, 58, 47, 64, 43, 52, 57,  8,  0,  0, 18, 47, 56, 57,\n",
            "        58,  1, 15, 47, 58, 47, 64, 43, 52, 10,  0, 35, 43,  1, 39, 56, 43,  1,\n",
            "        39, 41, 41, 53, 59, 52, 58, 43, 42,  1, 54, 53, 53, 56,  1, 41, 47, 58,\n",
            "        47, 64, 43, 52, 57,  6,  1, 58, 46, 43,  1, 54, 39, 58, 56, 47, 41, 47,\n",
            "        39, 52, 57,  1, 45, 53, 53, 42,  8,  0, 35, 46, 39, 58,  1, 39, 59, 58,\n",
            "        46, 53, 56, 47, 58, 63,  1, 57, 59, 56, 44, 43, 47, 58, 57,  1, 53, 52,\n",
            "         1, 61, 53, 59, 50, 42,  1, 56, 43, 50, 47, 43, 60, 43,  1, 59, 57, 10,\n",
            "         1, 47, 44,  1, 58, 46, 43, 63,  0, 61, 53, 59, 50, 42,  1, 63, 47, 43,\n",
            "        50, 42,  1, 59, 57,  1, 40, 59, 58,  1, 58, 46, 43,  1, 57, 59, 54, 43,\n",
            "        56, 44, 50, 59, 47, 58, 63,  6,  1, 61, 46, 47, 50, 43,  1, 47, 58,  1,\n",
            "        61, 43, 56, 43,  0, 61, 46, 53, 50, 43, 57, 53, 51, 43,  6,  1, 61, 43,\n",
            "         1, 51, 47, 45, 46, 58,  1, 45, 59, 43, 57, 57,  1, 58, 46, 43, 63,  1,\n",
            "        56, 43, 50, 47, 43, 60, 43, 42,  1, 59, 57,  1, 46, 59, 51, 39, 52, 43,\n",
            "        50, 63, 11,  0, 40, 59, 58,  1, 58, 46, 43, 63,  1, 58, 46, 47, 52, 49,\n",
            "         1, 61, 43,  1, 39, 56, 43,  1, 58, 53, 53,  1, 42, 43, 39, 56, 10,  1,\n",
            "        58, 46, 43,  1, 50, 43, 39, 52, 52, 43, 57, 57,  1, 58, 46, 39, 58,  0,\n",
            "        39, 44, 44, 50, 47, 41, 58, 57,  1, 59, 57,  6,  1, 58, 46, 43,  1, 53,\n",
            "        40, 48, 43, 41, 58,  1, 53, 44,  1, 53, 59, 56,  1, 51, 47, 57, 43, 56,\n",
            "        63,  6,  1, 47, 57,  1, 39, 57,  1, 39, 52,  0, 47, 52, 60, 43, 52, 58,\n",
            "        53, 56, 63,  1, 58, 53,  1, 54, 39, 56, 58, 47, 41, 59, 50, 39, 56, 47,\n",
            "        57, 43,  1, 58, 46, 43, 47, 56,  1, 39, 40, 59, 52, 42, 39, 52, 41, 43,\n",
            "        11,  1, 53, 59, 56,  0, 57, 59, 44, 44, 43, 56, 39, 52, 41, 43,  1, 47,\n",
            "        57,  1, 39,  1, 45, 39, 47, 52,  1, 58, 53,  1, 58, 46, 43, 51,  1, 24,\n",
            "        43, 58,  1, 59, 57,  1, 56, 43, 60, 43, 52, 45, 43,  1, 58, 46, 47, 57,\n",
            "         1, 61, 47, 58, 46,  0, 53, 59, 56,  1, 54, 47, 49, 43, 57,  6,  1, 43,\n",
            "        56, 43,  1, 61, 43,  1, 40, 43, 41, 53, 51, 43,  1, 56, 39, 49, 43, 57,\n",
            "        10,  1, 44, 53, 56,  1, 58, 46, 43,  1, 45, 53, 42, 57,  1, 49, 52, 53,\n",
            "        61,  1, 21,  0, 57, 54, 43, 39, 49,  1, 58, 46, 47, 57,  1, 47, 52,  1,\n",
            "        46, 59, 52, 45, 43, 56,  1, 44, 53, 56,  1, 40, 56, 43, 39, 42,  6,  1,\n",
            "        52, 53, 58,  1, 47, 52,  1, 58, 46, 47, 56, 57, 58,  1, 44, 53, 56,  1,\n",
            "        56, 43, 60, 43, 52, 45, 43,  8,  0,  0])\n"
          ]
        }
      ]
    },
    {
      "cell_type": "code",
      "source": [
        "# Let's now split up the data into train and validation sets\n",
        "n = int(0.9*len(data)) # first 90% will be train, rest val\n",
        "train_data = data[:n]\n",
        "val_data = data[n:]\n",
        "print(len(train_data))\n",
        "print(len(val_data))"
      ],
      "metadata": {
        "id": "f_WIXqxz0lU5",
        "colab": {
          "base_uri": "https://localhost:8080/"
        },
        "outputId": "f5f638fa-99ee-43d4-f0bd-a167b8493bdb"
      },
      "execution_count": 14,
      "outputs": [
        {
          "output_type": "stream",
          "name": "stdout",
          "text": [
            "1003854\n",
            "111540\n"
          ]
        }
      ]
    },
    {
      "cell_type": "code",
      "source": [
        "block_size = 8\n",
        "train_data[:block_size+1]"
      ],
      "metadata": {
        "colab": {
          "base_uri": "https://localhost:8080/"
        },
        "id": "TD5Bj8Y6IAD4",
        "outputId": "47465102-5f3c-4f19-b313-4a54f44519d6"
      },
      "execution_count": 15,
      "outputs": [
        {
          "output_type": "execute_result",
          "data": {
            "text/plain": [
              "tensor([18, 47, 56, 57, 58,  1, 15, 47, 58])"
            ]
          },
          "metadata": {},
          "execution_count": 15
        }
      ]
    },
    {
      "cell_type": "code",
      "source": [
        "x = train_data[:block_size]\n",
        "y = train_data[1:block_size+1]\n",
        "print(x)\n",
        "print(y)\n",
        "print(range(8))\n",
        "for t in range(block_size):\n",
        "    context = x[:t+1]\n",
        "    target = y[t]\n",
        "    print(f\"when input is {context} the target: {target}\")"
      ],
      "metadata": {
        "colab": {
          "base_uri": "https://localhost:8080/"
        },
        "id": "9HXDe8vGJCEn",
        "outputId": "fa29cedf-cf13-472f-b56e-67bf349a9c59"
      },
      "execution_count": 17,
      "outputs": [
        {
          "output_type": "stream",
          "name": "stdout",
          "text": [
            "tensor([18, 47, 56, 57, 58,  1, 15, 47])\n",
            "tensor([47, 56, 57, 58,  1, 15, 47, 58])\n",
            "range(0, 8)\n",
            "when input is tensor([18]) the target: 47\n",
            "when input is tensor([18, 47]) the target: 56\n",
            "when input is tensor([18, 47, 56]) the target: 57\n",
            "when input is tensor([18, 47, 56, 57]) the target: 58\n",
            "when input is tensor([18, 47, 56, 57, 58]) the target: 1\n",
            "when input is tensor([18, 47, 56, 57, 58,  1]) the target: 15\n",
            "when input is tensor([18, 47, 56, 57, 58,  1, 15]) the target: 47\n",
            "when input is tensor([18, 47, 56, 57, 58,  1, 15, 47]) the target: 58\n"
          ]
        }
      ]
    },
    {
      "cell_type": "code",
      "source": [
        "torch.manual_seed(1337)\n",
        "batch_size = 4 # how many independent sequences will we process in parallel?\n",
        "block_size = 8 # what is the maximum context length for predictions?\n",
        "\n",
        "def get_batch(split):\n",
        "    # generate a small batch of data of inputs x and targets y\n",
        "    data = train_data if split == 'train' else val_data\n",
        "    print(len(data))\n",
        "    print(len(data) - block_size)\n",
        "\n",
        "    ix = torch.randint(len(data) - block_size, (batch_size,))\n",
        "    print(ix)\n",
        "    x = torch.stack([data[i:i+block_size] for i in ix])\n",
        "    y = torch.stack([data[i+1:i+block_size+1] for i in ix])\n",
        "    return x, y\n",
        "\n",
        "xb, yb = get_batch('train')\n",
        "print('inputs:')\n",
        "print(xb.shape)\n",
        "print(xb)\n",
        "print('targets:')\n",
        "print(yb.shape)\n",
        "print(yb)\n",
        "\n",
        "print('----')\n",
        "\n",
        "for b in range(batch_size): # batch dimension\n",
        "    for t in range(block_size): # time dimension\n",
        "        context = xb[b, :t+1]\n",
        "        target = yb[b,t]\n",
        "        print(f\"when input is {context.tolist()} the target: {target}\")"
      ],
      "metadata": {
        "colab": {
          "base_uri": "https://localhost:8080/"
        },
        "id": "Q3k1Czf7LuA9",
        "outputId": "2b2b30f8-bcdf-4784-aa8a-53381c6a9fca"
      },
      "execution_count": 23,
      "outputs": [
        {
          "output_type": "stream",
          "name": "stdout",
          "text": [
            "1003854\n",
            "1003846\n",
            "tensor([ 76049, 234249, 934904, 560986])\n",
            "inputs:\n",
            "torch.Size([4, 8])\n",
            "tensor([[24, 43, 58,  5, 57,  1, 46, 43],\n",
            "        [44, 53, 56,  1, 58, 46, 39, 58],\n",
            "        [52, 58,  1, 58, 46, 39, 58,  1],\n",
            "        [25, 17, 27, 10,  0, 21,  1, 54]])\n",
            "targets:\n",
            "torch.Size([4, 8])\n",
            "tensor([[43, 58,  5, 57,  1, 46, 43, 39],\n",
            "        [53, 56,  1, 58, 46, 39, 58,  1],\n",
            "        [58,  1, 58, 46, 39, 58,  1, 46],\n",
            "        [17, 27, 10,  0, 21,  1, 54, 39]])\n",
            "----\n",
            "when input is [24] the target: 43\n",
            "when input is [24, 43] the target: 58\n",
            "when input is [24, 43, 58] the target: 5\n",
            "when input is [24, 43, 58, 5] the target: 57\n",
            "when input is [24, 43, 58, 5, 57] the target: 1\n",
            "when input is [24, 43, 58, 5, 57, 1] the target: 46\n",
            "when input is [24, 43, 58, 5, 57, 1, 46] the target: 43\n",
            "when input is [24, 43, 58, 5, 57, 1, 46, 43] the target: 39\n",
            "when input is [44] the target: 53\n",
            "when input is [44, 53] the target: 56\n",
            "when input is [44, 53, 56] the target: 1\n",
            "when input is [44, 53, 56, 1] the target: 58\n",
            "when input is [44, 53, 56, 1, 58] the target: 46\n",
            "when input is [44, 53, 56, 1, 58, 46] the target: 39\n",
            "when input is [44, 53, 56, 1, 58, 46, 39] the target: 58\n",
            "when input is [44, 53, 56, 1, 58, 46, 39, 58] the target: 1\n",
            "when input is [52] the target: 58\n",
            "when input is [52, 58] the target: 1\n",
            "when input is [52, 58, 1] the target: 58\n",
            "when input is [52, 58, 1, 58] the target: 46\n",
            "when input is [52, 58, 1, 58, 46] the target: 39\n",
            "when input is [52, 58, 1, 58, 46, 39] the target: 58\n",
            "when input is [52, 58, 1, 58, 46, 39, 58] the target: 1\n",
            "when input is [52, 58, 1, 58, 46, 39, 58, 1] the target: 46\n",
            "when input is [25] the target: 17\n",
            "when input is [25, 17] the target: 27\n",
            "when input is [25, 17, 27] the target: 10\n",
            "when input is [25, 17, 27, 10] the target: 0\n",
            "when input is [25, 17, 27, 10, 0] the target: 21\n",
            "when input is [25, 17, 27, 10, 0, 21] the target: 1\n",
            "when input is [25, 17, 27, 10, 0, 21, 1] the target: 54\n",
            "when input is [25, 17, 27, 10, 0, 21, 1, 54] the target: 39\n"
          ]
        }
      ]
    },
    {
      "cell_type": "code",
      "source": [
        "print(xb) # our input to the transformer"
      ],
      "metadata": {
        "colab": {
          "base_uri": "https://localhost:8080/"
        },
        "id": "qpyyAeIzQjlO",
        "outputId": "c2d5bd13-1d31-45af-b4e5-e25a500eaf6f"
      },
      "execution_count": 24,
      "outputs": [
        {
          "output_type": "stream",
          "name": "stdout",
          "text": [
            "tensor([[24, 43, 58,  5, 57,  1, 46, 43],\n",
            "        [44, 53, 56,  1, 58, 46, 39, 58],\n",
            "        [52, 58,  1, 58, 46, 39, 58,  1],\n",
            "        [25, 17, 27, 10,  0, 21,  1, 54]])\n"
          ]
        }
      ]
    },
    {
      "cell_type": "code",
      "source": [
        "import torch\n",
        "import torch.nn as nn\n",
        "from torch.nn import functional as F\n",
        "torch.manual_seed(1337)\n",
        "\n",
        "class BigramLanguageModel(nn.Module):\n",
        "\n",
        "    def __init__(self, vocab_size):\n",
        "        super().__init__()\n",
        "        # each token directly reads off the logits for the next token from a lookup table\n",
        "        self.token_embedding_table = nn.Embedding(vocab_size, vocab_size)\n",
        "\n",
        "    def forward(self, idx, targets=None):\n",
        "\n",
        "        # idx and targets are both (B,T) tensor of integers\n",
        "        logits = self.token_embedding_table(idx) # (B,T,C)\n",
        "\n",
        "        if targets is None:\n",
        "            loss = None\n",
        "        else:\n",
        "            B, T, C = logits.shape\n",
        "            logits = logits.view(B*T, C)\n",
        "            targets = targets.view(B*T)\n",
        "            loss = F.cross_entropy(logits, targets)\n",
        "\n",
        "        return logits, loss\n",
        "\n",
        "    def generate(self, idx, max_new_tokens):\n",
        "        # idx is (B, T) array of indices in the current context\n",
        "        for _ in range(max_new_tokens):\n",
        "            # get the predictions\n",
        "            logits, loss = self(idx)\n",
        "            # focus only on the last time step\n",
        "            logits = logits[:, -1, :] # becomes (B, C)\n",
        "            # apply softmax to get probabilities\n",
        "            probs = F.softmax(logits, dim=-1) # (B, C)\n",
        "            # sample from the distribution\n",
        "            idx_next = torch.multinomial(probs, num_samples=1) # (B, 1)\n",
        "            # append sampled index to the running sequence\n",
        "            idx = torch.cat((idx, idx_next), dim=1) # (B, T+1)\n",
        "        return idx\n",
        "\n",
        "m = BigramLanguageModel(vocab_size)\n",
        "logits, loss = m(xb, yb)\n",
        "print(logits.shape)\n",
        "print(loss)\n",
        "\n",
        "print(decode(m.generate(idx = torch.zeros((1, 1), dtype=torch.long), max_new_tokens=100)[0].tolist()))\n"
      ],
      "metadata": {
        "colab": {
          "base_uri": "https://localhost:8080/"
        },
        "id": "nql_1ER53oCf",
        "outputId": "5a1b59b9-0cb7-4c21-9fc8-d4a666d36b28"
      },
      "execution_count": 25,
      "outputs": [
        {
          "output_type": "stream",
          "name": "stdout",
          "text": [
            "torch.Size([32, 65])\n",
            "tensor(4.8786, grad_fn=<NllLossBackward0>)\n",
            "\n",
            "Sr?qP-QWktXoL&jLDJgOLVz'RIoDqHdhsV&vLLxatjscMpwLERSPyao.qfzs$Ys$zF-w,;eEkzxjgCKFChs!iWW.ObzDnxA Ms$3\n"
          ]
        }
      ]
    },
    {
      "cell_type": "code",
      "source": [
        "# create a PyTorch optimizer\n",
        "optimizer = torch.optim.AdamW(m.parameters(), lr=1e-3)"
      ],
      "metadata": {
        "id": "eTyJ8qAaDdiF"
      },
      "execution_count": 26,
      "outputs": []
    },
    {
      "cell_type": "code",
      "source": [
        "batch_size = 32\n",
        "for steps in range(100): # increase number of steps for good results...\n",
        "\n",
        "    # sample a batch of data\n",
        "    xb, yb = get_batch('train')\n",
        "\n",
        "    # evaluate the loss\n",
        "    logits, loss = m(xb, yb)\n",
        "    optimizer.zero_grad(set_to_none=True)\n",
        "    loss.backward()\n",
        "    optimizer.step()\n",
        "\n",
        "print(loss.item())\n"
      ],
      "metadata": {
        "colab": {
          "base_uri": "https://localhost:8080/"
        },
        "id": "Hs4kI8YdEkQj",
        "outputId": "31b97f2c-b28a-406b-a0a9-9f561fceaff8"
      },
      "execution_count": 27,
      "outputs": [
        {
          "output_type": "stream",
          "name": "stdout",
          "text": [
            "1003854\n",
            "1003846\n",
            "tensor([880792, 620608, 758123, 761955, 483803,  61808, 476059, 726263, 656633,\n",
            "        674426, 241399, 395150, 298543, 938016, 254737, 952644,  24901, 772494,\n",
            "        628396, 556307, 319255,  38208, 849969, 394140, 919551, 316361, 359631,\n",
            "        121698, 567966, 743553, 884616, 849510])\n",
            "1003854\n",
            "1003846\n",
            "tensor([793375, 924645,  86369, 919544, 299140, 227344, 860300, 216165, 551383,\n",
            "        555439, 641236, 435602, 759848, 700082, 918994, 468585, 273700,  95491,\n",
            "        765171, 359861, 736914, 144022, 105516, 477200, 784451, 896134, 934681,\n",
            "        376322, 502277, 204528, 202156, 543499])\n",
            "1003854\n",
            "1003846\n",
            "tensor([ 800823,  930616,  153375,  834582,  860265,  296227,  993134,  806983,\n",
            "          98006,  172503,  194830,  353142,  954475,  301736,  781978, 1002223,\n",
            "         143971,  716105,  174172,  148687,  362485,  354704,  925089,  290609,\n",
            "         108944,  926805,  989259,  608356,  416002,  157300,  833640,  657117])\n",
            "1003854\n",
            "1003846\n",
            "tensor([680430, 266960, 331912, 406615, 677171,  61696, 506942, 766551, 981292,\n",
            "        147889, 266774, 862035, 603096, 553078, 738498, 962424, 437998, 126441,\n",
            "        349794, 261665, 175719, 213589, 244115, 431387, 590558, 719326, 462052,\n",
            "        295611, 463623, 213216, 266343, 268166])\n",
            "1003854\n",
            "1003846\n",
            "tensor([156407, 475683, 592933, 338218, 876527, 829282, 888254, 248968, 633776,\n",
            "        167546,  83501, 236419, 951212, 583918, 625225, 973616, 201135, 660186,\n",
            "        437321, 769547, 642680, 954330, 231823,  35428, 626574, 815010, 771323,\n",
            "        674051,  53631, 837493, 992538, 695904])\n",
            "1003854\n",
            "1003846\n",
            "tensor([ 88751, 584216, 368832, 157590, 554612, 241879, 901854, 121138, 768224,\n",
            "        868342, 100862, 467341, 286745, 847209, 835563,  84405, 621744, 453023,\n",
            "        785984, 626166, 490613, 430440, 288076, 253589, 432120, 742944, 992506,\n",
            "        535015, 505529,  20040,  73777,  39029])\n",
            "1003854\n",
            "1003846\n",
            "tensor([741485, 803341,  80592,  65748, 669302,  31787, 198391, 128563, 758707,\n",
            "        874333, 205979, 868572, 491937, 389567, 891829, 771507, 389895, 505459,\n",
            "          2092, 500753, 125475, 385021, 570354, 298509, 505276, 332012, 748881,\n",
            "        250527, 978752,  77785, 888649, 385053])\n",
            "1003854\n",
            "1003846\n",
            "tensor([871498, 438579, 506909, 982796, 518693, 339779, 145004, 469067, 501844,\n",
            "        957414, 111439,  37424, 522166, 296778, 153346, 622374, 567431, 420269,\n",
            "        762093,   5914,  69130, 585623, 317665, 606753, 722305, 281222, 859789,\n",
            "        242325, 614128, 778900, 800589,  28717])\n",
            "1003854\n",
            "1003846\n",
            "tensor([900908, 700791, 520674, 869468, 268606, 653686, 218969, 632670, 125498,\n",
            "        103671,  86398, 674125, 293347, 311892, 612919, 842239, 727511, 432463,\n",
            "          8001, 135831, 699726, 247388, 485963, 388182, 161406, 332513, 693109,\n",
            "        863378, 272701, 885316, 476357, 315031])\n",
            "1003854\n",
            "1003846\n",
            "tensor([  27345,  487567,  456530,  866607,  565563,  678534,  285052, 1003133,\n",
            "         444520,  369214,  174572,  639566,  247427,  279708,  129607,  807697,\n",
            "         858322,  945685,  487519,  886420,  187816,  643196,  616927,  100949,\n",
            "          42432,  943059,   30618,  600259,  581395,  491981,  770119,  846151])\n",
            "1003854\n",
            "1003846\n",
            "tensor([420013, 785963, 565124, 600895, 338042, 842203, 726597, 851871, 508856,\n",
            "        978213, 624059, 914823, 557813, 918916, 576290, 738025, 631723, 130699,\n",
            "        225137, 801262,  31308, 859893,     64, 908534, 849922, 515772, 949432,\n",
            "        641208, 489423, 320319, 356277, 453112])\n",
            "1003854\n",
            "1003846\n",
            "tensor([457125, 299301, 814363, 761903, 134862, 606534,  94704, 934793, 900617,\n",
            "        302547, 556556, 307317, 111496,  42627, 900172, 780813, 815899, 608809,\n",
            "        192717, 116502, 859904, 779783, 110336, 424484, 673727, 757478, 456702,\n",
            "        169210, 332420, 408494, 552819, 107657])\n",
            "1003854\n",
            "1003846\n",
            "tensor([418682, 136084, 443096, 555019, 534379, 994077, 782129, 938875, 241948,\n",
            "        540577, 285610, 501168, 928516, 928465, 133499, 455488, 611137, 398322,\n",
            "         41482, 993931, 698438, 627794, 817546, 861773,  89163, 234655, 889972,\n",
            "        194075, 737666, 844534, 522200, 443461])\n",
            "1003854\n",
            "1003846\n",
            "tensor([ 65586, 431794, 616384, 411977, 263736, 774649, 499407, 322881, 757997,\n",
            "        608502, 893152, 716830, 166664, 707455, 768693, 523253, 308484, 605042,\n",
            "        268596, 924110, 234354, 256047, 340536, 219372,   8368, 989564, 821639,\n",
            "        627115, 106169, 653086, 959094, 323711])\n",
            "1003854\n",
            "1003846\n",
            "tensor([907170,  65447, 655546, 811984, 907943, 986008, 456005, 827067,  86635,\n",
            "        643112, 617120, 388714, 918634, 951006, 955258, 896737, 548973, 480827,\n",
            "        939949, 169906, 627579, 907274,  91625, 924084, 521620, 128250,   1679,\n",
            "        902035, 175296, 946284, 632336, 914190])\n",
            "1003854\n",
            "1003846\n",
            "tensor([903158, 977241,  70546, 998793, 858347, 828694, 902133,   8871,  29760,\n",
            "        946390, 437753, 557193, 381035, 634023, 206457, 607766, 313980, 161994,\n",
            "        450339, 506165, 317427, 580592, 110190, 483301, 298030, 476023, 741746,\n",
            "        898782, 617827, 340751, 319776, 321115])\n",
            "1003854\n",
            "1003846\n",
            "tensor([ 20489, 427595, 581436, 699240, 560537, 168103, 770243, 493882, 256497,\n",
            "        147645,  65672, 630117, 997490, 488793, 541389, 143839, 862245, 785419,\n",
            "        695637, 116417, 759263, 565571, 432609, 153607, 659915, 508830, 151336,\n",
            "        988663, 987802, 229921, 727613, 760528])\n",
            "1003854\n",
            "1003846\n",
            "tensor([  9707, 786237,  35057, 274031, 540088, 168936, 749747, 840988,  87499,\n",
            "         52202, 736176, 694973, 115594, 370553,  86968, 835405,  89064, 456100,\n",
            "        129147, 658896,  61010, 835618, 610643, 562741, 108987, 350520, 501273,\n",
            "        699591, 846729, 143125, 562040, 784266])\n",
            "1003854\n",
            "1003846\n",
            "tensor([ 36783,  98402, 403870, 264362, 106346, 184730, 752496, 688656, 173393,\n",
            "        611738, 607503, 146447, 912252, 955965, 828767, 422573, 705598, 118992,\n",
            "        477552,  40838, 766579, 913566, 971864, 769837, 325474, 651630, 762273,\n",
            "        567623, 289365, 946527,  53227, 611723])\n",
            "1003854\n",
            "1003846\n",
            "tensor([338858, 592140, 811502, 911431, 411405, 430416, 850637, 333248,  83940,\n",
            "        524532, 624723, 962332, 978960,  90581, 142983, 596294, 357691, 189364,\n",
            "        763543, 152338, 236973, 322672, 206672, 760186, 352462, 568448,  29412,\n",
            "        479904, 757083, 602312, 989135, 481948])\n",
            "1003854\n",
            "1003846\n",
            "tensor([921330, 632237, 916952, 314848, 349112, 526916, 568695,  95919, 858943,\n",
            "        792718, 756121, 331583, 560618,  61634, 331016, 633490, 624292, 520078,\n",
            "        517542, 243354, 544700, 135802, 267803, 668252, 282899, 955739, 821963,\n",
            "        577105, 430125, 956182, 367306, 576146])\n",
            "1003854\n",
            "1003846\n",
            "tensor([ 88485, 779838, 351285, 898819, 336628,  39861, 457574, 313296, 393366,\n",
            "        656329, 468923, 243479, 622368, 669338, 545644, 472761, 511009, 431881,\n",
            "        755856, 957021, 106273, 982568, 123446, 278885, 353265, 935277, 814586,\n",
            "         60641, 236650,  66416,  78087,  13988])\n",
            "1003854\n",
            "1003846\n",
            "tensor([354313, 322545, 500632, 171516, 200094, 708131, 258571, 161853, 360458,\n",
            "        791143, 821352,  31494, 570008, 610092,  60182, 704647,  95531, 436581,\n",
            "        956084,  18129, 538254, 662539, 828516, 638635, 288754, 192054, 707919,\n",
            "        101340, 701745, 341626, 788801, 465464])\n",
            "1003854\n",
            "1003846\n",
            "tensor([ 140469,  350654,  440636,  471824,  365631,  109180,  699606,  316614,\n",
            "          95839,  874840,  356131,  870027, 1002859,  762139,  978748,  966965,\n",
            "         280219,  615835,  914515,   95340,  206566,   46811,  118231,  598445,\n",
            "         500469,  988932,   74519,  264236,  804532,   89269,  503394,  197637])\n",
            "1003854\n",
            "1003846\n",
            "tensor([580441, 276884, 677464, 937273, 750455, 219887, 260421, 843146, 557995,\n",
            "        738957, 127203, 410215, 933498, 116226, 895366, 692122, 875151,  71904,\n",
            "         36391, 710290,  52638, 922297, 366915, 317178, 892275, 161628, 638178,\n",
            "        909541, 426141, 968423, 629177, 590141])\n",
            "1003854\n",
            "1003846\n",
            "tensor([ 760658,  425152, 1002645,  180298,   13423,  100163,  385942,  325260,\n",
            "         315899,  466861,  476199,  337737,  519673,  247499,  116592,  888291,\n",
            "         909004,  479972,  357740,  647441,  975081,  171982,  209035,  345373,\n",
            "         162663,  879973,  597503,  966514,  913924,  979306,  515616,  509882])\n",
            "1003854\n",
            "1003846\n",
            "tensor([780997, 956860, 183693,  25313, 603289, 151458, 658995, 231813, 457434,\n",
            "        347069, 684804, 670800, 613830, 581453, 682300, 530331, 275686,  12420,\n",
            "        996978, 148658, 416410, 195347, 615140, 751299, 555351, 342776, 228944,\n",
            "        706992, 199058,  26552, 479450, 722420])\n",
            "1003854\n",
            "1003846\n",
            "tensor([231927, 531518, 711700, 935466, 126042, 354994, 129162, 145250, 357988,\n",
            "        636606, 103144, 238203, 359448, 107616, 405623, 265204, 352775, 219570,\n",
            "        313416, 254960, 635347, 602923, 866133, 381917, 862443, 959199, 864805,\n",
            "        188172,   2921, 854909, 374496, 649291])\n",
            "1003854\n",
            "1003846\n",
            "tensor([279282, 287934,  29487, 842253, 457431, 900279, 877099, 278793, 769641,\n",
            "         41449, 572534, 732805,  60299, 928023, 954721, 804215, 908661, 200781,\n",
            "        766246, 555936, 829284, 197231, 902478, 624436, 909985,  69371, 900555,\n",
            "        965500, 355015, 477320, 258787, 252028])\n",
            "1003854\n",
            "1003846\n",
            "tensor([351657, 900707, 771411, 989677, 207945, 243305, 238505, 616732, 439335,\n",
            "         63462, 414192, 547337, 639947, 684533,  64276, 204534, 413383, 562178,\n",
            "        345803, 380896, 267160, 366814,  30347, 100873, 227126, 762136, 649402,\n",
            "        923884, 106634, 626961,  13498, 556175])\n",
            "1003854\n",
            "1003846\n",
            "tensor([154938, 664184, 155926, 372263,  13612, 519220, 599586, 519389, 922934,\n",
            "        119066, 463832, 124620, 493333, 335418, 271775, 552091, 659571, 420023,\n",
            "        290932, 924563, 858110, 574201, 482012, 731742, 627434, 291121, 992423,\n",
            "        344976, 360656, 259724, 434145,  90968])\n",
            "1003854\n",
            "1003846\n",
            "tensor([419387, 577179, 329684, 181107, 221874,  89340, 653178,  88088, 495961,\n",
            "        668687, 224574, 738581, 473655, 170675, 786169, 191963, 429672,  97937,\n",
            "        682384, 160608,  13464, 321816, 450768,  60607, 885729, 767759, 476797,\n",
            "        455086, 660269, 819166,  14861, 577510])\n",
            "1003854\n",
            "1003846\n",
            "tensor([857585, 336169,  36390, 564252, 611596, 135760, 830088, 578399, 446581,\n",
            "         92416, 880100, 606894, 814648, 223522,  44738, 972666, 379573, 239204,\n",
            "        748007, 473235, 391449, 310742, 962645, 567220, 431155, 952006, 351320,\n",
            "        400114, 951482, 119382, 983812, 395732])\n",
            "1003854\n",
            "1003846\n",
            "tensor([235274, 433722, 634036,  85965, 685082, 721059, 426101, 542668, 759152,\n",
            "         36226, 987464, 657686, 824593, 762243,  96215, 682483, 784623, 679979,\n",
            "        679503, 363307, 468351, 412841,  73940, 589832, 912226,  62645, 584835,\n",
            "        858276, 297236, 844864, 492138, 630689])\n",
            "1003854\n",
            "1003846\n",
            "tensor([   7349,  710349,  356369,  989376,  495559,  415611,  607915,  558156,\n",
            "         575233,  409594,  693883,  748544,  362712,  972424,  818845,  657479,\n",
            "         227963,  498656,  647523,  164719,  277028,  121742,  983456,  400722,\n",
            "         883042,  756905,  886456,  388153,  776946,   32552, 1000885,   32203])\n",
            "1003854\n",
            "1003846\n",
            "tensor([996088, 788597, 699388, 562752, 585104, 431918, 144620, 777071, 576656,\n",
            "        268806, 293897, 145811,   2139, 200075, 624300, 904158, 517942, 491437,\n",
            "        231783, 393901, 370562, 715092, 266829, 733781,  40890, 277341, 587519,\n",
            "        330729, 252219,  75134, 707614, 851797])\n",
            "1003854\n",
            "1003846\n",
            "tensor([166349, 228423, 426301, 787126, 637741, 834317, 739581, 725706, 586339,\n",
            "        110911, 127237, 843574, 994907, 117728, 854267, 291896,  33762, 711597,\n",
            "        744874, 385146, 961603, 524418, 368377, 283195,  48521, 768639, 930645,\n",
            "        819232, 928771, 342753, 671405, 145152])\n",
            "1003854\n",
            "1003846\n",
            "tensor([801470, 945675, 774958, 836024, 360785, 979141, 622527, 399694, 962891,\n",
            "         69929, 215184, 528254, 718641, 135556, 454703, 335926, 369001, 768419,\n",
            "        157252, 964321, 517477, 585926, 298559,  71630, 404792, 783262,  91567,\n",
            "        958391, 230098, 514099, 275172, 348759])\n",
            "1003854\n",
            "1003846\n",
            "tensor([827289, 350367, 818084, 250310,  42052, 621410, 906055,  71089, 840247,\n",
            "        512364, 849993, 341985, 699216, 105176, 492722, 194406, 666741, 406653,\n",
            "        212434, 316680, 101957, 622311, 461417, 691883, 424433, 318211, 917027,\n",
            "         82989, 976270, 122573, 877880,  41642])\n",
            "1003854\n",
            "1003846\n",
            "tensor([ 27187, 752844,  88427, 126836,  57266, 422957, 283129,  37293, 137124,\n",
            "        403983, 486322, 615515, 458476, 733669, 514274, 191676, 939155, 368484,\n",
            "        166574, 495225, 112649, 238221, 918913, 105170, 159283,  76156, 417255,\n",
            "        184839, 206661, 290642, 215796, 954127])\n",
            "1003854\n",
            "1003846\n",
            "tensor([ 968073,  872740,  396464,  159562,  856690,  648347,  956586,  495506,\n",
            "         513614,  756086,  324874,  870330,  347145,  294008,  506224,  502109,\n",
            "         639343,  239956,  605932,  609164,  367420,  255870,  421877,  252996,\n",
            "         146538,  535968,  458660,  966299,  840985, 1003764,  579422,   91102])\n",
            "1003854\n",
            "1003846\n",
            "tensor([612094, 959076, 231427, 667216, 600841, 302926, 517557, 358228, 377487,\n",
            "        305249, 751013, 131648, 608429, 202678, 961106, 974819, 264972, 438153,\n",
            "        405935, 895262,  63746, 518809, 849761, 884488, 827305, 161125, 843344,\n",
            "         18838, 266915, 877293, 968217, 964822])\n",
            "1003854\n",
            "1003846\n",
            "tensor([676541, 633188, 462704, 111927,  83158,  90904, 198071, 906863, 179214,\n",
            "        583593,  93079, 933797, 409130, 639856, 674740, 869918, 620964, 772157,\n",
            "        891893,  33418, 517242, 175796, 650324, 598729, 933620, 438375, 126541,\n",
            "        787652, 699835, 197029, 585476, 304237])\n",
            "1003854\n",
            "1003846\n",
            "tensor([111273, 449235, 558719,  78518, 144039, 374147, 772735, 338325, 866794,\n",
            "         12421, 582301, 965329, 641910, 729662, 513963, 669259, 822305, 851701,\n",
            "        601863, 196880,  96595, 899305, 186746,   6346, 279059, 281475, 909525,\n",
            "        557021, 337731, 566827, 755942, 202523])\n",
            "1003854\n",
            "1003846\n",
            "tensor([770888, 749526, 296392,  69455, 595077, 620912, 746890, 704151, 822681,\n",
            "        680315, 269756, 640650, 254190, 271680, 784234, 913893, 584950, 403690,\n",
            "        255410, 113995, 354250, 972825,  62373, 471277, 515089, 750209, 370036,\n",
            "        771236,  44284, 736319, 221322, 671014])\n",
            "1003854\n",
            "1003846\n",
            "tensor([951939,  95514, 887080, 725626, 269618,  62183, 882899, 424144, 109543,\n",
            "        285956, 194455, 215525, 350234,  92214, 870067, 627192,  61191, 546438,\n",
            "          5483, 233757, 406826, 644486, 995835, 971510, 999212, 319392, 699216,\n",
            "        340633, 350544, 644400, 531334, 296320])\n",
            "1003854\n",
            "1003846\n",
            "tensor([479451, 336238, 389503, 430763, 223794, 221516, 349661, 278786, 503350,\n",
            "        399902,  75926, 421380, 507010, 260076, 650322, 114208, 837371, 842385,\n",
            "         33149, 731129, 659470, 516968,  38707, 205773, 732571,  86348, 778166,\n",
            "        409185,   4760, 106676, 491291,   3477])\n",
            "1003854\n",
            "1003846\n",
            "tensor([123253, 594136, 566772, 764484, 111931, 564281, 908014, 320689, 248837,\n",
            "        961532, 333126, 374676, 272566, 481585, 315813, 775971, 603466, 199940,\n",
            "        820696, 648304, 817503, 561526, 250703, 962066, 529319,  26668, 277081,\n",
            "        701096, 742281, 810761, 636292, 515221])\n",
            "1003854\n",
            "1003846\n",
            "tensor([  25339,  304621,  526136,  751867,  438141,   34001,  309666,  996563,\n",
            "         737672,  803185,  903854,  433190,  141477,  487690,  143802,  387940,\n",
            "         226425,  595233,  310913,  596517,  513582,  972610,  374493,  263055,\n",
            "         166018, 1003201,  354468,  843970,  450204,  164771,  190302,  823465])\n",
            "1003854\n",
            "1003846\n",
            "tensor([ 31175, 756942, 783628, 179012, 158177,  84932,   7280, 871717, 134276,\n",
            "        316030,  96530,  24757, 719985, 166072, 503829, 708116, 644139, 166403,\n",
            "        508998, 102341,  23882, 408590, 897831, 432368, 200888, 698831, 991400,\n",
            "        597409, 460498, 268778,   5081, 101125])\n",
            "1003854\n",
            "1003846\n",
            "tensor([ 526934,  543518, 1000487,  179360,  904882,   23318,  382348,  743673,\n",
            "         751908,  976211,  311243,  625982,  267126,  751720,  624913,  280264,\n",
            "         454485,  744109,  743420,  978677,  172006,  520909,  441384,   38918,\n",
            "         311021,  739566,  817129,   98561,  543293,  556055,    4607,  306362])\n",
            "1003854\n",
            "1003846\n",
            "tensor([928280, 303077, 859627,   7679, 521286, 499712, 188541, 688571, 383230,\n",
            "        512375, 868092, 620428, 241797, 272938, 607406,  39479, 359686, 271910,\n",
            "        687201, 298514, 494773, 215990,  44938, 116536,  66167, 666544,  80226,\n",
            "        952763, 225316, 674701,  14059, 151847])\n",
            "1003854\n",
            "1003846\n",
            "tensor([994728, 989379, 399991, 202549, 545185,  53209, 956167, 512807, 673133,\n",
            "         96929, 762351,  79277, 279209, 937967, 460513, 530755, 989193, 778152,\n",
            "         73361, 749014,  59017,  45825, 821695, 727379, 864304,  38437, 375789,\n",
            "        992580, 838459, 787744, 941951, 767164])\n",
            "1003854\n",
            "1003846\n",
            "tensor([ 83624, 857608, 298458, 232190, 560064, 216052, 414369, 451480, 798535,\n",
            "        469441, 188937, 387297,  96912, 302359, 925218, 700842, 572406, 291797,\n",
            "        267308, 942703, 963143, 187207, 276979, 448735, 708030, 530782, 326151,\n",
            "        581002, 284395,  72510, 528831, 609038])\n",
            "1003854\n",
            "1003846\n",
            "tensor([922529, 595117, 725866, 454449, 170542, 905375, 822457, 725590, 385354,\n",
            "        675743, 843295, 184682, 774322, 362070, 183609,  43496, 177734, 585590,\n",
            "        156655, 260533, 217896, 406754, 767950, 812404, 161781, 547331, 295883,\n",
            "        908097, 457331, 347599, 762171, 375095])\n",
            "1003854\n",
            "1003846\n",
            "tensor([256031, 591176, 431012, 838463, 870793, 435673, 382195,  40798, 355523,\n",
            "        453145, 150343, 729402, 506627, 710125, 837918, 894138, 345195, 774399,\n",
            "        409713, 829858,  28084, 950934, 868629, 862998, 441924,  87724, 402340,\n",
            "        451221, 948387, 202099, 738072, 904084])\n",
            "1003854\n",
            "1003846\n",
            "tensor([ 623980,   57614,  756479,  130927,  536564,  825158,   85136,  132375,\n",
            "         145908,   55509,   82634,  165991,   48045,  838902,  361578,   67975,\n",
            "        1002561,  571016,  342330,  443122,  681371,  521383,  241320,  424188,\n",
            "         931328,  889615,  983383,  786171,  535125,  719008,  683043,  643083])\n",
            "1003854\n",
            "1003846\n",
            "tensor([352482, 827069, 923520, 228360, 432783, 484378, 120534, 808973,  13896,\n",
            "        739627, 823450, 734152, 646375, 210930, 240430, 645755, 578222, 730970,\n",
            "        851003, 441156, 220423, 840420, 112184, 477439, 730570, 533955, 167584,\n",
            "        326239,  71909, 341044, 354045, 244185])\n",
            "1003854\n",
            "1003846\n",
            "tensor([976847, 562877, 893405, 272118, 403205,  42400, 432952, 212331,  42587,\n",
            "        398650, 427700, 876679, 890989,  88717, 946064, 781059,  71373, 459287,\n",
            "        900350, 637187, 288466, 112331, 769064, 813446, 564700, 649827, 258695,\n",
            "        451148, 934020, 391550, 367827, 676455])\n",
            "1003854\n",
            "1003846\n",
            "tensor([871781, 497535, 846019, 304646, 662329, 950544, 960029,  31452,  38044,\n",
            "        674245, 569745, 861940, 424725, 610905, 770175, 591046, 298439, 960837,\n",
            "        235566, 711393, 234747, 234183, 547850, 871767, 427871,  57820, 137975,\n",
            "        642602, 490787,  68325, 770387, 120267])\n",
            "1003854\n",
            "1003846\n",
            "tensor([957463, 997925, 785910, 530731, 436121, 973440, 407951, 911295, 945897,\n",
            "        235355, 297477, 856394,  24075, 241893, 736625, 895363, 194535,  23039,\n",
            "        162355, 923670, 177636, 316834, 821278, 541606, 623184, 571383,  38440,\n",
            "        398960, 685176, 836438, 920116,  39476])\n",
            "1003854\n",
            "1003846\n",
            "tensor([ 221479,  535897,  546923,  867244,  985127, 1003393,  153768,  906056,\n",
            "          63327,  388080,  109490,  149631,   22448,  755119,  223543,   45903,\n",
            "         356936,  829707,  181063,  381782,  238374,  115384,  766565,  366455,\n",
            "         954907,  308410,  319555,  265132,  906684,  154862,  246779,  843865])\n",
            "1003854\n",
            "1003846\n",
            "tensor([855453, 842108, 461105, 893752, 595951, 285167, 514052, 597634, 241761,\n",
            "        756023, 501211,  83654, 662298, 326059, 962659, 199916, 171934, 335268,\n",
            "        874577, 200585, 944785, 113755, 952410, 303662, 878042, 606268, 822171,\n",
            "        553530, 788597, 408764, 893037, 627316])\n",
            "1003854\n",
            "1003846\n",
            "tensor([465430, 183582, 860146, 514711,  54223, 477317, 808189, 273716, 853897,\n",
            "        603624, 765523, 522410, 695256, 510994, 335954, 311108, 949844, 797815,\n",
            "        374535, 215012, 660716, 375068, 835876, 988858, 367263, 904241, 821199,\n",
            "        146230,  97449, 995312, 331891, 913280])\n",
            "1003854\n",
            "1003846\n",
            "tensor([ 940807,  851203,   47299,  279006,  965514,  426016,  454425,  297214,\n",
            "         328886,  964452,  303624,  556650,  229895,  350205,   11214,  657831,\n",
            "          75493,  740376,   17459,  115971,  932604,  327186,  416417,  265431,\n",
            "        1000213,  806876,  147331,  681274,  314844,  826143,  702155,  753417])\n",
            "1003854\n",
            "1003846\n",
            "tensor([333663,  41969,  30309,  24425, 115337, 409269,  52776, 535287, 811403,\n",
            "        151247, 173143, 520222, 596045, 989695,  88063, 850870, 717345, 382397,\n",
            "        257042, 237224,  36418, 250903, 848939, 672484, 577403, 109774, 873438,\n",
            "        458420, 874864, 166415, 914920, 227431])\n",
            "1003854\n",
            "1003846\n",
            "tensor([969312, 472746, 826187,  71043, 242551, 276632, 505079, 559141, 210447,\n",
            "         88542, 280210, 349720,  24363, 323354,  62931, 245391,  78740,  57285,\n",
            "        645483,  79520, 679072, 931143, 121235, 950256, 698555, 141510, 710922,\n",
            "        265273, 182068, 272514, 755971, 493453])\n",
            "1003854\n",
            "1003846\n",
            "tensor([ 105778,  786057,  368959,  239941,  787224,  642279,  593940,  877889,\n",
            "         456776,  101026,  369602,  572885,   13668,  120027,  231629,  916804,\n",
            "         377813,   72631,  185621,  357008,  641215,   71356, 1002167,  113757,\n",
            "         671203,  465960,  662511,  733048,  136254,  107361,  962348,  883525])\n",
            "1003854\n",
            "1003846\n",
            "tensor([947135, 304154, 806978, 190100,  97022, 107993, 256054, 653203, 891022,\n",
            "        493442, 719574, 811381, 612460, 232317, 658056, 780619, 453750, 506098,\n",
            "        854375, 332088, 671224, 166579, 940089, 169994, 768511, 326164, 455523,\n",
            "        261565,  68283,  21192, 397079, 602908])\n",
            "1003854\n",
            "1003846\n",
            "tensor([248799, 598125, 534327, 527951, 325513, 107298, 728181, 131802, 575830,\n",
            "        424189, 883456, 690946,  72303, 203972, 624213, 171209, 919891,  42878,\n",
            "        344540, 106362, 397365, 580116, 706641, 599574,  88643, 209083, 390769,\n",
            "        824856, 948243, 421401, 320368, 144453])\n",
            "1003854\n",
            "1003846\n",
            "tensor([988946, 912944, 691790, 139484,  17321, 835458,  34330, 812565, 350763,\n",
            "        402438, 440799, 544373, 335385, 765630, 877936, 975305, 288767, 903664,\n",
            "           187, 431835, 403055, 964884, 950373, 182320, 923093, 293115, 673512,\n",
            "        662638, 495675, 820166,  16948, 897095])\n",
            "1003854\n",
            "1003846\n",
            "tensor([883967, 444509, 241915, 480748, 187218, 762387, 517079, 224147, 706825,\n",
            "        901472, 574801, 830230, 677840, 496135,  23131, 789361, 180971, 199346,\n",
            "        437776, 320287, 130261, 315052, 645455, 445726, 852234, 453664, 190647,\n",
            "        239923, 165058,  37005, 270137, 465234])\n",
            "1003854\n",
            "1003846\n",
            "tensor([510563, 333369, 646547, 847471, 973986, 881016, 453796, 317036, 284495,\n",
            "        675077, 510495,  72887, 636262, 950005, 693010, 837698, 430869, 115919,\n",
            "        940366, 524020, 428463, 474074, 714788, 599073, 108342, 992077, 950620,\n",
            "        845176, 563622, 134397, 819554, 416660])\n",
            "1003854\n",
            "1003846\n",
            "tensor([ 72053, 403108, 444069, 700343, 398139, 968815, 196108, 331465, 363931,\n",
            "        490948, 719781, 116618, 797661, 840334, 784728,  66067, 883649, 292296,\n",
            "        882116, 106154, 725363, 447507, 869293, 676131, 467318, 150057, 351493,\n",
            "        503908, 793464,  95251, 528184, 287680])\n",
            "1003854\n",
            "1003846\n",
            "tensor([ 35543,  91569, 419387, 666048, 292588,  83373, 192059,  77311, 342115,\n",
            "        359613, 508145, 772805, 882668, 216743, 355425,    420, 183549, 372033,\n",
            "        336891, 420683, 627928, 789453, 294438, 688998, 979037, 896403, 612048,\n",
            "        808446, 616787, 915522, 390576, 510679])\n",
            "1003854\n",
            "1003846\n",
            "tensor([281399, 659350, 652255, 712922, 381421, 428380, 329793, 854015, 784408,\n",
            "        543885, 995218, 134489, 744894, 370191, 613520,  42170, 383020,  89832,\n",
            "        124230, 958255, 119523, 430657, 545280, 676941, 711963, 419611, 220126,\n",
            "         65118, 788868, 553133,   1151, 444231])\n",
            "1003854\n",
            "1003846\n",
            "tensor([982640, 102013, 944136, 329781, 398515, 990809, 607651, 950127, 782444,\n",
            "        835580, 827110, 531194, 973653, 320110,  13052, 490287,  63080, 742950,\n",
            "        194227, 802048,  48915, 947553, 449643, 595401, 371320, 718694, 597860,\n",
            "        248411, 220140, 831141, 618632, 731239])\n",
            "1003854\n",
            "1003846\n",
            "tensor([765861, 824387, 662456, 796321, 393832, 214598, 180828, 663316, 103309,\n",
            "        847390, 466630, 466613, 830296, 840203, 928503, 410175, 363310, 519052,\n",
            "        346201, 899346, 789719, 600810, 561790, 312595,  67301, 988404, 714375,\n",
            "        754736, 128560, 915891, 495796, 475163])\n",
            "1003854\n",
            "1003846\n",
            "tensor([ 495645,  799808, 1001158,  787455,  296464,  200061,  665582,  214686,\n",
            "         210704,  330868,  296943,  322207,  854829,  954877,  797982,  532433,\n",
            "         630223,  784028,  810162,  478947,  364369,  613581,  303119,   98704,\n",
            "         687311,  481465,  313397, 1002404,  548763,  154050,  754630,  150407])\n",
            "1003854\n",
            "1003846\n",
            "tensor([728830, 281879, 479296,  85549, 166232, 662787, 880839, 924896, 166806,\n",
            "        597653, 289856, 548618, 634651, 174398, 741005, 873596, 208785, 369870,\n",
            "        894856, 482893, 740261, 435619, 896011, 436307, 627968, 217075, 548016,\n",
            "        347801, 749949, 970586, 570434, 800181])\n",
            "1003854\n",
            "1003846\n",
            "tensor([131362, 974886, 677830, 238326, 606465, 463539, 247690, 326304, 972440,\n",
            "        563758, 538225, 229445, 997245, 405817, 354617, 803947, 676743, 883406,\n",
            "        148065, 408789, 201399, 205338, 219370, 358921, 731571, 246933, 560810,\n",
            "        700649, 456248, 711292,  27994, 905160])\n",
            "1003854\n",
            "1003846\n",
            "tensor([130342, 165322, 729926, 730754, 670799, 805825, 482053, 853737, 244962,\n",
            "        342734, 878822, 419512, 917330, 336244, 591263, 937626, 669414, 375091,\n",
            "        204782, 399027, 694714, 350222, 678383, 582003, 931615, 366207, 765021,\n",
            "        931047, 741123, 226821, 146475, 857912])\n",
            "1003854\n",
            "1003846\n",
            "tensor([117164, 911369, 567746, 468549,  72616, 450821, 132763, 639603,  58252,\n",
            "        980374, 725175, 663361, 607084,  23511,  17911, 536195,  23885, 103603,\n",
            "         37384, 761792, 398013, 543966,  42304, 701151, 560429, 279622, 946357,\n",
            "        395514, 334090, 306966, 215928,  42180])\n",
            "1003854\n",
            "1003846\n",
            "tensor([ 85499, 691228, 104557, 657658, 865734, 259490, 489178, 610798,  21437,\n",
            "         14437, 284326, 680773, 725423, 632358, 807349, 306082, 790258, 403481,\n",
            "        453520, 907014, 985149, 582672, 194046, 124070, 597927, 276151, 703030,\n",
            "        887418, 442721, 661756, 239772, 324696])\n",
            "1003854\n",
            "1003846\n",
            "tensor([220005,  33075,  77233, 307842, 485762, 346921,  36247, 583329, 718302,\n",
            "        515980, 496632, 156583, 658146, 792078, 262017,   3012, 711345, 799129,\n",
            "        785635, 579953, 653582, 669047, 945879, 319966, 217054, 714377, 241062,\n",
            "        153508, 662992, 848526, 287967, 833893])\n",
            "1003854\n",
            "1003846\n",
            "tensor([552073,  31692, 673459, 182638, 867991,  32720, 177293, 787131, 342578,\n",
            "        648351, 387513, 511827, 241946, 569212, 996217, 410394, 112669, 361299,\n",
            "        362450, 301246, 916429, 867164, 308890, 621001, 650826, 151291, 577202,\n",
            "        669935, 336743, 132977, 655929, 512796])\n",
            "1003854\n",
            "1003846\n",
            "tensor([145032, 617061, 151076, 658314,  10954, 464955, 507253, 647506, 795167,\n",
            "        877917, 262647, 169325, 166745,  76338, 507852, 701858, 574454, 947004,\n",
            "        303037, 372394, 251142, 817938, 718715, 111931, 800641, 359510, 495659,\n",
            "        175188,  61269,   4775, 541091, 876699])\n",
            "1003854\n",
            "1003846\n",
            "tensor([687610, 175290, 402729, 508404, 928529, 904556, 901879, 663667, 470589,\n",
            "        822852, 594073, 899045,  31535, 869606, 771961, 411100, 873760, 468287,\n",
            "        204703, 303311, 296281, 967109, 292684, 176992, 601253, 249713, 607643,\n",
            "        499756, 792300, 735198, 466695,  27354])\n",
            "1003854\n",
            "1003846\n",
            "tensor([953011, 599303, 344293, 299674, 803299, 735481, 902688, 561910, 940901,\n",
            "        541183, 875346,  35579, 682881,  24569, 825683, 899154, 229268, 716038,\n",
            "         44118, 129105, 690628, 687528, 112449, 965014, 822257, 655778, 576333,\n",
            "        265444, 560282, 980902, 785734, 407087])\n",
            "1003854\n",
            "1003846\n",
            "tensor([ 22179, 885715, 260386, 594818, 707339,  69542, 755250, 811596, 429724,\n",
            "         78172, 656287, 809747, 890946, 954811, 170434, 621159, 199004, 323823,\n",
            "         58849, 515428, 278142, 935431, 924402,  62495, 534384,  77530, 507369,\n",
            "        282327, 826533, 242539, 992419, 836810])\n",
            "1003854\n",
            "1003846\n",
            "tensor([941892, 722405, 262008, 366570, 986885, 749204, 687252, 633361,  32828,\n",
            "        125289, 338043, 785369, 412749, 893129, 468546, 469652, 648931,  83955,\n",
            "        494426, 829134, 900980, 463360, 193344, 469172, 473157,  27561, 917254,\n",
            "        589779, 323836, 809504,  38390, 115252])\n",
            "1003854\n",
            "1003846\n",
            "tensor([ 38215, 179192, 991663, 683107, 676015, 665156, 971674, 293130, 162671,\n",
            "        255468, 595719, 145636, 271876, 185024, 224447, 261977,  64824, 666312,\n",
            "        941472, 437703, 920491,  14001, 762162, 768137, 602111,  33084, 137267,\n",
            "        131846, 130158,  92832,  33585, 409207])\n",
            "1003854\n",
            "1003846\n",
            "tensor([379072, 618144, 204987, 920196,  21145, 847178, 425006, 243652, 800900,\n",
            "        625795, 978669,  76723, 637506, 480651, 931461,  87854, 376179, 532015,\n",
            "        418484, 934329, 589456, 135450, 304298,   1063, 415729,  78289, 638142,\n",
            "        596937, 327271, 256584, 881462, 325225])\n",
            "1003854\n",
            "1003846\n",
            "tensor([875387, 714106, 365366, 594657, 501669, 302816, 288964, 793620, 710479,\n",
            "        237193, 501731, 704925, 938566, 482541, 694992, 223443, 806127,  99402,\n",
            "        352398, 578465, 254264, 323757, 191194, 757120, 305364, 344417, 126041,\n",
            "        369258, 998692, 891479, 688250, 958753])\n",
            "1003854\n",
            "1003846\n",
            "tensor([ 23729, 154479,  21211, 357364, 151835, 513289, 489556, 164992,  31609,\n",
            "        224454, 121686, 299356, 151318,  88438, 540708, 846228, 133595, 234316,\n",
            "         68209,  70324, 928480, 604449, 643741, 384600,  30110, 601036, 358187,\n",
            "        717375, 402096, 970368, 537765, 517164])\n",
            "1003854\n",
            "1003846\n",
            "tensor([518791, 761625, 646544, 954811, 493697, 963750, 757763, 728987, 790216,\n",
            "        761099, 454861, 143932,  90541, 926502, 704780, 860241, 480180, 952465,\n",
            "        162390, 531336, 706764, 960602, 385698, 828693, 788808, 992266,  27727,\n",
            "         29767, 698109, 706398, 158986, 752786])\n",
            "1003854\n",
            "1003846\n",
            "tensor([ 69565, 980859, 769346,  25841, 637192, 319165, 165189, 755681, 161745,\n",
            "        263805, 483594,  28430, 585774, 432142, 926418, 116432, 344740, 671845,\n",
            "        280883, 494533, 396631, 808794, 651350, 327380, 139526, 687183, 801836,\n",
            "        797376, 660003, 183198, 901287, 487410])\n",
            "1003854\n",
            "1003846\n",
            "tensor([960862, 543022, 920262, 162920,  82299,  29225, 657015, 399324, 712136,\n",
            "         95012, 679901, 240024, 553258, 155838,  84063, 869763,  10816,  42957,\n",
            "        161621, 509651,   4537, 775808, 490537, 397663, 720786, 361866, 265156,\n",
            "        875203, 453515, 589385, 858105, 106293])\n",
            "1003854\n",
            "1003846\n",
            "tensor([231441, 888196, 792435, 460971, 232128, 843334, 417031, 474210, 507226,\n",
            "        261803, 288007, 618474, 838894, 752030, 354141, 345563, 119470,  93746,\n",
            "        938588,  17932, 383418, 501087, 965314, 790351, 502364,  47199,  32714,\n",
            "        823884, 887986, 457570, 557264, 776485])\n",
            "1003854\n",
            "1003846\n",
            "tensor([454026, 263586, 400665, 553514, 584243,  69409, 984383,  91791, 974428,\n",
            "        425231,  29259, 460355, 308636, 978186, 329201, 588048, 448556, 548297,\n",
            "        875180, 814707, 724475, 941050, 844436, 542490,   9482, 269367, 354884,\n",
            "        376294, 549742, 876973, 814328, 663615])\n",
            "4.587916374206543\n"
          ]
        }
      ]
    },
    {
      "cell_type": "code",
      "source": [
        "print(decode(m.generate(idx = torch.zeros((1, 1), dtype=torch.long), max_new_tokens=500)[0].tolist()))"
      ],
      "metadata": {
        "colab": {
          "base_uri": "https://localhost:8080/"
        },
        "id": "EcVIDWAZEtjN",
        "outputId": "039ef67f-7696-4799-97b0-dd7b4081afbc"
      },
      "execution_count": 28,
      "outputs": [
        {
          "output_type": "stream",
          "name": "stdout",
          "text": [
            "\n",
            "xiKi-RJ:CgqVuUa!U?qMH.uk!sCuMXvv!CJFfx;LgRyJknOEti.?I&-gPlLyulId?XlaInQ'q,lT$\n",
            "3Q&sGlvHQ?mqSq-eON\n",
            "x?SP fUAfCAuCX:bOlgiRQWN:Mphaw\n",
            "tRLKuYXEaAXxrcq-gCUzeh3w!AcyaylgYWjmJM?Uzw:inaY,:C&OECW:vmGGJAn3onAuMgia!ms$Vb q-gCOcPcUhOnxJGUGSPJWT:.?ujmJFoiNL&A'DxY,prZ?qdT;hoo'dHooXXlxf'WkHK&u3Q?rqUi.kz;?Yx?C&u3Qbfzxlyh'Vl:zyxjKXgC?\n",
            "lv'QKFiBeviNxO'm!Upm$srm&TqViqiBD3HBP!juEOpmZJyF$Fwfy!PlvWPFC\n",
            "&WDdP!Ko,px\n",
            "x\n",
            "tREOE;AJ.BeXkylOVD3KHp$e?nD,.SFbWWI'ubcL!q-tU;aXmJ&uGXHxJXI&Z!gHRpajj;l.\n",
            "pTErIBjx;JKIgoCnLGXrJSP!AU-AcbczR?\n"
          ]
        }
      ]
    },
    {
      "cell_type": "markdown",
      "source": [
        "## The mathematical trick in self-attention"
      ],
      "metadata": {
        "id": "XinV8nmAnmKN"
      }
    },
    {
      "cell_type": "code",
      "source": [
        "# toy example illustrating how matrix multiplication can be used for a \"weighted aggregation\"\n",
        "torch.manual_seed(42)\n",
        "a = torch.tril(torch.ones(3, 3))\n",
        "a = a / torch.sum(a, 1, keepdim=True)\n",
        "b = torch.randint(0,10,(3,2)).float()\n",
        "c = a @ b\n",
        "print('a=')\n",
        "print(a)\n",
        "print('--')\n",
        "print('b=')\n",
        "print(b)\n",
        "print('--')\n",
        "print('c=')\n",
        "print(c)"
      ],
      "metadata": {
        "colab": {
          "base_uri": "https://localhost:8080/"
        },
        "id": "tukiH-NbRBhA",
        "outputId": "17f62672-9c17-4b62-b30f-19dc0c528af9"
      },
      "execution_count": 29,
      "outputs": [
        {
          "output_type": "stream",
          "name": "stdout",
          "text": [
            "a=\n",
            "tensor([[1.0000, 0.0000, 0.0000],\n",
            "        [0.5000, 0.5000, 0.0000],\n",
            "        [0.3333, 0.3333, 0.3333]])\n",
            "--\n",
            "b=\n",
            "tensor([[2., 7.],\n",
            "        [6., 4.],\n",
            "        [6., 5.]])\n",
            "--\n",
            "c=\n",
            "tensor([[2.0000, 7.0000],\n",
            "        [4.0000, 5.5000],\n",
            "        [4.6667, 5.3333]])\n"
          ]
        }
      ]
    },
    {
      "cell_type": "code",
      "source": [
        "# consider the following toy example:\n",
        "\n",
        "torch.manual_seed(1337)\n",
        "B,T,C = 4,8,2 # batch, time, channels\n",
        "x = torch.randn(B,T,C)\n",
        "x.shape"
      ],
      "metadata": {
        "colab": {
          "base_uri": "https://localhost:8080/"
        },
        "id": "Hs_E24uRE8kr",
        "outputId": "f0f4aa67-0600-4eb8-ca9a-0e3f006ff588"
      },
      "execution_count": 30,
      "outputs": [
        {
          "output_type": "execute_result",
          "data": {
            "text/plain": [
              "torch.Size([4, 8, 2])"
            ]
          },
          "metadata": {},
          "execution_count": 30
        }
      ]
    },
    {
      "cell_type": "code",
      "source": [
        "# We want x[b,t] = mean_{i<=t} x[b,i]\n",
        "xbow = torch.zeros((B,T,C))\n",
        "for b in range(B):\n",
        "    for t in range(T):\n",
        "        xprev = x[b,:t+1] # (t,C)\n",
        "        xbow[b,t] = torch.mean(xprev, 0)\n"
      ],
      "metadata": {
        "id": "86NuXX0fn7ps"
      },
      "execution_count": 31,
      "outputs": []
    },
    {
      "cell_type": "code",
      "source": [
        "# version 2: using matrix multiply for a weighted aggregation\n",
        "wei = torch.tril(torch.ones(T, T))\n",
        "wei = wei / wei.sum(1, keepdim=True)\n",
        "xbow2 = wei @ x # (B, T, T) @ (B, T, C) ----> (B, T, C)\n",
        "torch.allclose(xbow, xbow2)"
      ],
      "metadata": {
        "colab": {
          "base_uri": "https://localhost:8080/"
        },
        "id": "yhdOAd6-wXkZ",
        "outputId": "59a90e19-7966-48b6-8916-023ce76c2ed3"
      },
      "execution_count": 32,
      "outputs": [
        {
          "output_type": "execute_result",
          "data": {
            "text/plain": [
              "False"
            ]
          },
          "metadata": {},
          "execution_count": 32
        }
      ]
    },
    {
      "cell_type": "code",
      "source": [
        "# version 3: use Softmax\n",
        "tril = torch.tril(torch.ones(T, T))\n",
        "wei = torch.zeros((T,T))\n",
        "wei = wei.masked_fill(tril == 0, float('-inf'))\n",
        "wei = F.softmax(wei, dim=-1)\n",
        "xbow3 = wei @ x\n",
        "torch.allclose(xbow, xbow3)\n"
      ],
      "metadata": {
        "colab": {
          "base_uri": "https://localhost:8080/"
        },
        "id": "wOURrfG-ysoL",
        "outputId": "239a64af-3cc9-4a69-9eec-dd5d1cb367aa"
      },
      "execution_count": 33,
      "outputs": [
        {
          "output_type": "execute_result",
          "data": {
            "text/plain": [
              "False"
            ]
          },
          "metadata": {},
          "execution_count": 33
        }
      ]
    },
    {
      "cell_type": "code",
      "source": [
        "# version 4: self-attention!\n",
        "torch.manual_seed(1337)\n",
        "B,T,C = 4,8,32 # batch, time, channels\n",
        "x = torch.randn(B,T,C)\n",
        "\n",
        "# let's see a single Head perform self-attention\n",
        "head_size = 16\n",
        "key = nn.Linear(C, head_size, bias=False)\n",
        "query = nn.Linear(C, head_size, bias=False)\n",
        "value = nn.Linear(C, head_size, bias=False)\n",
        "k = key(x)   # (B, T, 16)\n",
        "q = query(x) # (B, T, 16)\n",
        "wei =  q @ k.transpose(-2, -1) # (B, T, 16) @ (B, 16, T) ---> (B, T, T)\n",
        "\n",
        "tril = torch.tril(torch.ones(T, T))\n",
        "#wei = torch.zeros((T,T))\n",
        "wei = wei.masked_fill(tril == 0, float('-inf'))\n",
        "wei = F.softmax(wei, dim=-1)\n",
        "\n",
        "v = value(x)\n",
        "out = wei @ v\n",
        "#out = wei @ x\n",
        "\n",
        "out.shape"
      ],
      "metadata": {
        "colab": {
          "base_uri": "https://localhost:8080/"
        },
        "id": "EDarxEWIRMKq",
        "outputId": "da907b4a-47cd-4cb6-f77c-81c604b50ef7"
      },
      "execution_count": 34,
      "outputs": [
        {
          "output_type": "execute_result",
          "data": {
            "text/plain": [
              "torch.Size([4, 8, 16])"
            ]
          },
          "metadata": {},
          "execution_count": 34
        }
      ]
    },
    {
      "cell_type": "code",
      "source": [
        "wei[0]"
      ],
      "metadata": {
        "colab": {
          "base_uri": "https://localhost:8080/"
        },
        "id": "vT1hdtzXCjgL",
        "outputId": "dcb86291-a7cd-4caa-a200-b2233eb77b7c"
      },
      "execution_count": 35,
      "outputs": [
        {
          "output_type": "execute_result",
          "data": {
            "text/plain": [
              "tensor([[1.0000, 0.0000, 0.0000, 0.0000, 0.0000, 0.0000, 0.0000, 0.0000],\n",
              "        [0.1574, 0.8426, 0.0000, 0.0000, 0.0000, 0.0000, 0.0000, 0.0000],\n",
              "        [0.2088, 0.1646, 0.6266, 0.0000, 0.0000, 0.0000, 0.0000, 0.0000],\n",
              "        [0.5792, 0.1187, 0.1889, 0.1131, 0.0000, 0.0000, 0.0000, 0.0000],\n",
              "        [0.0294, 0.1052, 0.0469, 0.0276, 0.7909, 0.0000, 0.0000, 0.0000],\n",
              "        [0.0176, 0.2689, 0.0215, 0.0089, 0.6812, 0.0019, 0.0000, 0.0000],\n",
              "        [0.1691, 0.4066, 0.0438, 0.0416, 0.1048, 0.2012, 0.0329, 0.0000],\n",
              "        [0.0210, 0.0843, 0.0555, 0.2297, 0.0573, 0.0709, 0.2423, 0.2391]],\n",
              "       grad_fn=<SelectBackward0>)"
            ]
          },
          "metadata": {},
          "execution_count": 35
        }
      ]
    },
    {
      "cell_type": "markdown",
      "source": [
        "Notes:\n",
        "- Attention is a **communication mechanism**. Can be seen as nodes in a directed graph looking at each other and aggregating information with a weighted sum from all nodes that point to them, with data-dependent weights.\n",
        "- There is no notion of space. Attention simply acts over a set of vectors. This is why we need to positionally encode tokens.\n",
        "- Each example across batch dimension is of course processed completely independently and never \"talk\" to each other\n",
        "- In an \"encoder\" attention block just delete the single line that does masking with `tril`, allowing all tokens to communicate. This block here is called a \"decoder\" attention block because it has triangular masking, and is usually used in autoregressive settings, like language modeling.\n",
        "- \"self-attention\" just means that the keys and values are produced from the same source as queries. In \"cross-attention\", the queries still get produced from x, but the keys and values come from some other, external source (e.g. an encoder module)\n",
        "- \"Scaled\" attention additional divides `wei` by 1/sqrt(head_size). This makes it so when input Q,K are unit variance, wei will be unit variance too and Softmax will stay diffuse and not saturate too much. Illustration below"
      ],
      "metadata": {
        "id": "M5CvobiQ0pLr"
      }
    },
    {
      "cell_type": "code",
      "source": [
        "k = torch.randn(B,T,head_size)\n",
        "q = torch.randn(B,T,head_size)\n",
        "wei = q @ k.transpose(-2, -1) * head_size**-0.5"
      ],
      "metadata": {
        "id": "4SNbLq5z3oBw"
      },
      "execution_count": null,
      "outputs": []
    },
    {
      "cell_type": "code",
      "source": [
        "k.var()"
      ],
      "metadata": {
        "colab": {
          "base_uri": "https://localhost:8080/"
        },
        "id": "Nl6I9n9IRTSo",
        "outputId": "0c5b9cd0-af8a-4564-fbad-41d844e54822"
      },
      "execution_count": null,
      "outputs": [
        {
          "output_type": "execute_result",
          "data": {
            "text/plain": [
              "tensor(1.0449)"
            ]
          },
          "metadata": {},
          "execution_count": 25
        }
      ]
    },
    {
      "cell_type": "code",
      "source": [
        "q.var()"
      ],
      "metadata": {
        "colab": {
          "base_uri": "https://localhost:8080/"
        },
        "id": "T1tQx7oeRvtc",
        "outputId": "3541ca1a-7447-4ef7-835e-81824aebc1b5"
      },
      "execution_count": null,
      "outputs": [
        {
          "output_type": "execute_result",
          "data": {
            "text/plain": [
              "tensor(1.0700)"
            ]
          },
          "metadata": {},
          "execution_count": 26
        }
      ]
    },
    {
      "cell_type": "code",
      "source": [
        "wei.var()"
      ],
      "metadata": {
        "colab": {
          "base_uri": "https://localhost:8080/"
        },
        "id": "MLb_odHU3iKM",
        "outputId": "a687a222-5a2c-4cdb-c1bf-17cd05b45b69"
      },
      "execution_count": null,
      "outputs": [
        {
          "output_type": "execute_result",
          "data": {
            "text/plain": [
              "tensor(1.0918)"
            ]
          },
          "metadata": {},
          "execution_count": 27
        }
      ]
    },
    {
      "cell_type": "code",
      "source": [
        "torch.softmax(torch.tensor([0.1, -0.2, 0.3, -0.2, 0.5]), dim=-1)"
      ],
      "metadata": {
        "colab": {
          "base_uri": "https://localhost:8080/"
        },
        "id": "JB82yzt44REI",
        "outputId": "f07da2f1-10bb-4a7a-bcaa-578587977d00"
      },
      "execution_count": null,
      "outputs": [
        {
          "output_type": "execute_result",
          "data": {
            "text/plain": [
              "tensor([0.1925, 0.1426, 0.2351, 0.1426, 0.2872])"
            ]
          },
          "metadata": {},
          "execution_count": 28
        }
      ]
    },
    {
      "cell_type": "code",
      "source": [
        "torch.softmax(torch.tensor([0.1, -0.2, 0.3, -0.2, 0.5])*8, dim=-1) # gets too peaky, converges to one-hot"
      ],
      "metadata": {
        "colab": {
          "base_uri": "https://localhost:8080/"
        },
        "id": "Mpt8569BB9_f",
        "outputId": "5d8b910a-6192-44ba-ebb2-497d88e0b629"
      },
      "execution_count": null,
      "outputs": [
        {
          "output_type": "execute_result",
          "data": {
            "text/plain": [
              "tensor([0.0326, 0.0030, 0.1615, 0.0030, 0.8000])"
            ]
          },
          "metadata": {},
          "execution_count": 31
        }
      ]
    },
    {
      "cell_type": "code",
      "source": [
        "class LayerNorm1d: # (used to be BatchNorm1d)\n",
        "\n",
        "  def __init__(self, dim, eps=1e-5, momentum=0.1):\n",
        "    self.eps = eps\n",
        "    self.gamma = torch.ones(dim)\n",
        "    self.beta = torch.zeros(dim)\n",
        "\n",
        "  def __call__(self, x):\n",
        "    # calculate the forward pass\n",
        "    xmean = x.mean(1, keepdim=True) # batch mean\n",
        "    xvar = x.var(1, keepdim=True) # batch variance\n",
        "    xhat = (x - xmean) / torch.sqrt(xvar + self.eps) # normalize to unit variance\n",
        "    self.out = self.gamma * xhat + self.beta\n",
        "    return self.out\n",
        "\n",
        "  def parameters(self):\n",
        "    return [self.gamma, self.beta]\n",
        "\n",
        "torch.manual_seed(1337)\n",
        "module = LayerNorm1d(100)\n",
        "x = torch.randn(32, 100) # batch size 32 of 100-dimensional vectors\n",
        "x = module(x)\n",
        "x.shape"
      ],
      "metadata": {
        "colab": {
          "base_uri": "https://localhost:8080/"
        },
        "id": "2Num7sX9CKOH",
        "outputId": "929ceb78-a639-41d6-aac7-12997b5c93f0"
      },
      "execution_count": null,
      "outputs": [
        {
          "output_type": "execute_result",
          "data": {
            "text/plain": [
              "torch.Size([32, 100])"
            ]
          },
          "metadata": {},
          "execution_count": 32
        }
      ]
    },
    {
      "cell_type": "code",
      "source": [
        "x[:,0].mean(), x[:,0].std() # mean,std of one feature across all batch inputs"
      ],
      "metadata": {
        "colab": {
          "base_uri": "https://localhost:8080/"
        },
        "id": "633T2cmnW1uk",
        "outputId": "7720fa58-0478-4e8a-86a7-502d4cce9443"
      },
      "execution_count": null,
      "outputs": [
        {
          "output_type": "execute_result",
          "data": {
            "text/plain": [
              "(tensor(0.1469), tensor(0.8803))"
            ]
          },
          "metadata": {},
          "execution_count": 33
        }
      ]
    },
    {
      "cell_type": "code",
      "source": [
        "x[0,:].mean(), x[0,:].std() # mean,std of a single input from the batch, of its features"
      ],
      "metadata": {
        "colab": {
          "base_uri": "https://localhost:8080/"
        },
        "id": "LN9cK9BoXCYb",
        "outputId": "6368ece0-600e-417d-8a91-7c1e5d750ba8"
      },
      "execution_count": null,
      "outputs": [
        {
          "output_type": "execute_result",
          "data": {
            "text/plain": [
              "(tensor(-9.5367e-09), tensor(1.0000))"
            ]
          },
          "metadata": {},
          "execution_count": 34
        }
      ]
    },
    {
      "cell_type": "code",
      "source": [
        "# French to English translation example:\n",
        "\n",
        "# <--------- ENCODE ------------------><--------------- DECODE ----------------->\n",
        "# les réseaux de neurones sont géniaux! <START> neural networks are awesome!<END>\n",
        "\n"
      ],
      "metadata": {
        "id": "dRJH6wM_XFfU"
      },
      "execution_count": null,
      "outputs": []
    },
    {
      "cell_type": "markdown",
      "source": [
        "### Full finished code, for reference\n",
        "\n",
        "You may want to refer directly to the git repo instead though."
      ],
      "metadata": {
        "id": "ZcvKeBXoZFOY"
      }
    },
    {
      "cell_type": "code",
      "source": [
        "import torch\n",
        "import torch.nn as nn\n",
        "from torch.nn import functional as F\n",
        "\n",
        "# hyperparameters\n",
        "batch_size = 16 # how many independent sequences will we process in parallel?\n",
        "block_size = 32 # what is the maximum context length for predictions?\n",
        "max_iters = 5000\n",
        "eval_interval = 100\n",
        "learning_rate = 1e-3\n",
        "device = 'cuda' if torch.cuda.is_available() else 'cpu'\n",
        "eval_iters = 200\n",
        "n_embd = 64\n",
        "n_head = 4\n",
        "n_layer = 4\n",
        "dropout = 0.0\n",
        "# ------------\n",
        "\n",
        "torch.manual_seed(1337)\n",
        "\n",
        "# wget https://raw.githubusercontent.com/karpathy/char-rnn/master/data/tinyshakespeare/input.txt\n",
        "with open('input.txt', 'r', encoding='utf-8') as f:\n",
        "    text = f.read()\n",
        "\n",
        "# here are all the unique characters that occur in this text\n",
        "chars = sorted(list(set(text)))\n",
        "vocab_size = len(chars)\n",
        "# create a mapping from characters to integers\n",
        "stoi = { ch:i for i,ch in enumerate(chars) }\n",
        "itos = { i:ch for i,ch in enumerate(chars) }\n",
        "encode = lambda s: [stoi[c] for c in s] # encoder: take a string, output a list of integers\n",
        "decode = lambda l: ''.join([itos[i] for i in l]) # decoder: take a list of integers, output a string\n",
        "\n",
        "# Train and test splits\n",
        "data = torch.tensor(encode(text), dtype=torch.long)\n",
        "n = int(0.9*len(data)) # first 90% will be train, rest val\n",
        "train_data = data[:n]\n",
        "val_data = data[n:]\n",
        "\n",
        "# data loading\n",
        "def get_batch(split):\n",
        "    # generate a small batch of data of inputs x and targets y\n",
        "    data = train_data if split == 'train' else val_data\n",
        "    ix = torch.randint(len(data) - block_size, (batch_size,))\n",
        "    x = torch.stack([data[i:i+block_size] for i in ix])\n",
        "    y = torch.stack([data[i+1:i+block_size+1] for i in ix])\n",
        "    x, y = x.to(device), y.to(device)\n",
        "    return x, y\n",
        "\n",
        "@torch.no_grad()\n",
        "def estimate_loss():\n",
        "    out = {}\n",
        "    model.eval()\n",
        "    for split in ['train', 'val']:\n",
        "        losses = torch.zeros(eval_iters)\n",
        "        for k in range(eval_iters):\n",
        "            X, Y = get_batch(split)\n",
        "            logits, loss = model(X, Y)\n",
        "            losses[k] = loss.item()\n",
        "        out[split] = losses.mean()\n",
        "    model.train()\n",
        "    return out\n",
        "\n",
        "class Head(nn.Module):\n",
        "    \"\"\" one head of self-attention \"\"\"\n",
        "\n",
        "    def __init__(self, head_size):\n",
        "        super().__init__()\n",
        "        self.key = nn.Linear(n_embd, head_size, bias=False)\n",
        "        self.query = nn.Linear(n_embd, head_size, bias=False)\n",
        "        self.value = nn.Linear(n_embd, head_size, bias=False)\n",
        "        self.register_buffer('tril', torch.tril(torch.ones(block_size, block_size)))\n",
        "\n",
        "        self.dropout = nn.Dropout(dropout)\n",
        "\n",
        "    def forward(self, x):\n",
        "        B,T,C = x.shape\n",
        "        k = self.key(x)   # (B,T,C)\n",
        "        q = self.query(x) # (B,T,C)\n",
        "        # compute attention scores (\"affinities\")\n",
        "        wei = q @ k.transpose(-2,-1) * C**-0.5 # (B, T, C) @ (B, C, T) -> (B, T, T)\n",
        "        wei = wei.masked_fill(self.tril[:T, :T] == 0, float('-inf')) # (B, T, T)\n",
        "        wei = F.softmax(wei, dim=-1) # (B, T, T)\n",
        "        wei = self.dropout(wei)\n",
        "        # perform the weighted aggregation of the values\n",
        "        v = self.value(x) # (B,T,C)\n",
        "        out = wei @ v # (B, T, T) @ (B, T, C) -> (B, T, C)\n",
        "        return out\n",
        "\n",
        "class MultiHeadAttention(nn.Module):\n",
        "    \"\"\" multiple heads of self-attention in parallel \"\"\"\n",
        "\n",
        "    def __init__(self, num_heads, head_size):\n",
        "        super().__init__()\n",
        "        self.heads = nn.ModuleList([Head(head_size) for _ in range(num_heads)])\n",
        "        self.proj = nn.Linear(n_embd, n_embd)\n",
        "        self.dropout = nn.Dropout(dropout)\n",
        "\n",
        "    def forward(self, x):\n",
        "        out = torch.cat([h(x) for h in self.heads], dim=-1)\n",
        "        out = self.dropout(self.proj(out))\n",
        "        return out\n",
        "\n",
        "class FeedFoward(nn.Module):\n",
        "    \"\"\" a simple linear layer followed by a non-linearity \"\"\"\n",
        "\n",
        "    def __init__(self, n_embd):\n",
        "        super().__init__()\n",
        "        self.net = nn.Sequential(\n",
        "            nn.Linear(n_embd, 4 * n_embd),\n",
        "            nn.ReLU(),\n",
        "            nn.Linear(4 * n_embd, n_embd),\n",
        "            nn.Dropout(dropout),\n",
        "        )\n",
        "\n",
        "    def forward(self, x):\n",
        "        return self.net(x)\n",
        "\n",
        "class Block(nn.Module):\n",
        "    \"\"\" Transformer block: communication followed by computation \"\"\"\n",
        "\n",
        "    def __init__(self, n_embd, n_head):\n",
        "        # n_embd: embedding dimension, n_head: the number of heads we'd like\n",
        "        super().__init__()\n",
        "        head_size = n_embd // n_head\n",
        "        self.sa = MultiHeadAttention(n_head, head_size)\n",
        "        self.ffwd = FeedFoward(n_embd)\n",
        "        self.ln1 = nn.LayerNorm(n_embd)\n",
        "        self.ln2 = nn.LayerNorm(n_embd)\n",
        "\n",
        "    def forward(self, x):\n",
        "        x = x + self.sa(self.ln1(x))\n",
        "        x = x + self.ffwd(self.ln2(x))\n",
        "        return x\n",
        "\n",
        "# super simple bigram model\n",
        "class BigramLanguageModel(nn.Module):\n",
        "\n",
        "    def __init__(self):\n",
        "        super().__init__()\n",
        "        # each token directly reads off the logits for the next token from a lookup table\n",
        "        self.token_embedding_table = nn.Embedding(vocab_size, n_embd)\n",
        "        self.position_embedding_table = nn.Embedding(block_size, n_embd)\n",
        "        self.blocks = nn.Sequential(*[Block(n_embd, n_head=n_head) for _ in range(n_layer)])\n",
        "        self.ln_f = nn.LayerNorm(n_embd) # final layer norm\n",
        "        self.lm_head = nn.Linear(n_embd, vocab_size)\n",
        "\n",
        "    def forward(self, idx, targets=None):\n",
        "        B, T = idx.shape\n",
        "\n",
        "        # idx and targets are both (B,T) tensor of integers\n",
        "        tok_emb = self.token_embedding_table(idx) # (B,T,C)\n",
        "        pos_emb = self.position_embedding_table(torch.arange(T, device=device)) # (T,C)\n",
        "        x = tok_emb + pos_emb # (B,T,C)\n",
        "        x = self.blocks(x) # (B,T,C)\n",
        "        x = self.ln_f(x) # (B,T,C)\n",
        "        logits = self.lm_head(x) # (B,T,vocab_size)\n",
        "\n",
        "        if targets is None:\n",
        "            loss = None\n",
        "        else:\n",
        "            B, T, C = logits.shape\n",
        "            logits = logits.view(B*T, C)\n",
        "            targets = targets.view(B*T)\n",
        "            loss = F.cross_entropy(logits, targets)\n",
        "\n",
        "        return logits, loss\n",
        "\n",
        "    def generate(self, idx, max_new_tokens):\n",
        "        # idx is (B, T) array of indices in the current context\n",
        "        for _ in range(max_new_tokens):\n",
        "            # crop idx to the last block_size tokens\n",
        "            idx_cond = idx[:, -block_size:]\n",
        "            # get the predictions\n",
        "            logits, loss = self(idx_cond)\n",
        "            # focus only on the last time step\n",
        "            logits = logits[:, -1, :] # becomes (B, C)\n",
        "            # apply softmax to get probabilities\n",
        "            probs = F.softmax(logits, dim=-1) # (B, C)\n",
        "            # sample from the distribution\n",
        "            idx_next = torch.multinomial(probs, num_samples=1) # (B, 1)\n",
        "            # append sampled index to the running sequence\n",
        "            idx = torch.cat((idx, idx_next), dim=1) # (B, T+1)\n",
        "        return idx\n",
        "\n",
        "model = BigramLanguageModel()\n",
        "m = model.to(device)\n",
        "# print the number of parameters in the model\n",
        "print(sum(p.numel() for p in m.parameters())/1e6, 'M parameters')\n",
        "\n",
        "# create a PyTorch optimizer\n",
        "optimizer = torch.optim.AdamW(model.parameters(), lr=learning_rate)\n",
        "\n",
        "for iter in range(max_iters):\n",
        "\n",
        "    # every once in a while evaluate the loss on train and val sets\n",
        "    if iter % eval_interval == 0 or iter == max_iters - 1:\n",
        "        losses = estimate_loss()\n",
        "        print(f\"step {iter}: train loss {losses['train']:.4f}, val loss {losses['val']:.4f}\")\n",
        "\n",
        "    # sample a batch of data\n",
        "    xb, yb = get_batch('train')\n",
        "\n",
        "    # evaluate the loss\n",
        "    logits, loss = model(xb, yb)\n",
        "    optimizer.zero_grad(set_to_none=True)\n",
        "    loss.backward()\n",
        "    optimizer.step()\n",
        "\n",
        "# generate from the model\n",
        "context = torch.zeros((1, 1), dtype=torch.long, device=device)\n",
        "print(decode(m.generate(context, max_new_tokens=2000)[0].tolist()))\n"
      ],
      "metadata": {
        "colab": {
          "base_uri": "https://localhost:8080/"
        },
        "id": "hoelkOrFY8bN",
        "outputId": "61bf8d84-45c2-4eb0-fba4-e3745466970c"
      },
      "execution_count": 36,
      "outputs": [
        {
          "output_type": "stream",
          "name": "stdout",
          "text": [
            "0.209729 M parameters\n",
            "step 0: train loss 4.4116, val loss 4.4022\n",
            "step 100: train loss 2.6568, val loss 2.6670\n",
            "step 200: train loss 2.5091, val loss 2.5060\n",
            "step 300: train loss 2.4199, val loss 2.4337\n",
            "step 400: train loss 2.3500, val loss 2.3563\n",
            "step 500: train loss 2.2961, val loss 2.3126\n",
            "step 600: train loss 2.2408, val loss 2.2501\n",
            "step 700: train loss 2.2053, val loss 2.2187\n",
            "step 800: train loss 2.1636, val loss 2.1870\n",
            "step 900: train loss 2.1226, val loss 2.1483\n",
            "step 1000: train loss 2.1017, val loss 2.1283\n",
            "step 1100: train loss 2.0683, val loss 2.1174\n",
            "step 1200: train loss 2.0376, val loss 2.0798\n",
            "step 1300: train loss 2.0256, val loss 2.0645\n",
            "step 1400: train loss 1.9919, val loss 2.0362\n",
            "step 1500: train loss 1.9696, val loss 2.0304\n",
            "step 1600: train loss 1.9625, val loss 2.0470\n",
            "step 1700: train loss 1.9402, val loss 2.0119\n",
            "step 1800: train loss 1.9085, val loss 1.9957\n",
            "step 1900: train loss 1.9080, val loss 1.9869\n",
            "step 2000: train loss 1.8834, val loss 1.9941\n",
            "step 2100: train loss 1.8727, val loss 1.9758\n",
            "step 2200: train loss 1.8585, val loss 1.9622\n",
            "step 2300: train loss 1.8537, val loss 1.9503\n",
            "step 2400: train loss 1.8419, val loss 1.9424\n",
            "step 2500: train loss 1.8153, val loss 1.9407\n",
            "step 2600: train loss 1.8267, val loss 1.9374\n",
            "step 2700: train loss 1.8126, val loss 1.9344\n",
            "step 2800: train loss 1.8054, val loss 1.9230\n",
            "step 2900: train loss 1.8045, val loss 1.9339\n",
            "step 3000: train loss 1.7963, val loss 1.9243\n",
            "step 3100: train loss 1.7691, val loss 1.9208\n",
            "step 3200: train loss 1.7506, val loss 1.9092\n",
            "step 3300: train loss 1.7548, val loss 1.9038\n",
            "step 3400: train loss 1.7582, val loss 1.8960\n",
            "step 3500: train loss 1.7376, val loss 1.8934\n",
            "step 3600: train loss 1.7232, val loss 1.8888\n",
            "step 3700: train loss 1.7280, val loss 1.8814\n",
            "step 3800: train loss 1.7221, val loss 1.8951\n",
            "step 3900: train loss 1.7228, val loss 1.8789\n",
            "step 4000: train loss 1.7168, val loss 1.8635\n",
            "step 4100: train loss 1.7168, val loss 1.8798\n",
            "step 4200: train loss 1.7088, val loss 1.8672\n",
            "step 4300: train loss 1.6995, val loss 1.8501\n",
            "step 4400: train loss 1.7096, val loss 1.8686\n",
            "step 4500: train loss 1.6907, val loss 1.8546\n",
            "step 4600: train loss 1.6868, val loss 1.8348\n",
            "step 4700: train loss 1.6786, val loss 1.8346\n",
            "step 4800: train loss 1.6659, val loss 1.8445\n",
            "step 4900: train loss 1.6711, val loss 1.8384\n",
            "step 4999: train loss 1.6630, val loss 1.8230\n",
            "\n",
            "ROMEO:\n",
            "But you far you\n",
            "my swap with thus; come hath I uD\n",
            "If sleemition of where's granded\n",
            "Of their of tout the gortune upwon alond, liege man to is Iell this surpe\n",
            "And than sleue thus mind, his by blow,\n",
            "Virdty toward butied, Ditire spresiss with thou some not.\n",
            "\n",
            "LORIO:\n",
            "I am part\n",
            "But thou sging them but\n",
            "shat secondes morry thou sovore.\n",
            "\n",
            "ISABUS:\n",
            "What art sade but hither, thange e'en,\n",
            "Protes as kingle me; an your tords whom are Ineal.\n",
            "\n",
            "MENENIUS:\n",
            "But little sweet, hom, foust cerfort;\n",
            "Winth hing diend enirs' tompy beds sick ways!\n",
            "What curforself this grace. Won, passes us.\n",
            "\n",
            "BUCKINGHABY MARD:\n",
            "Mether star: keep it any head which\n",
            "He tall devioly that, out that confer old.\n",
            "Our thy dears time.\n",
            "Nay, the fragoly, pair, of new\n",
            "my father, my lip Backnoward:\n",
            "God therring for respide\n",
            "What colvery, teminelyord, I mast,\n",
            "While us that such differs I'll that confect I come,\n",
            "But; man.\n",
            "\n",
            "VOLUMNIO:\n",
            "Ontread confail with me. Humser dipporbried answeraw is codal one,\n",
            "Onjestion, not or cheavess ensty with.\n",
            "\n",
            "GLOUCESTER:\n",
            "\n",
            "HENRY Mess to Lies?\n",
            "Stand and these beguare youf stile that than war\n",
            "offity are, I usquesch\n",
            "Frown movhapty not duke with you addom\n",
            "grack prowd--lost\n",
            "But but they worse is senst my crunne undolier. But, beauts pruntaly; I stoll'ct my nor Murder, I sot, though who speak\n",
            "Your bout told-man rathing if anyshal\n",
            "epitence, tirre no the said he's,\n",
            "Andis frultifs. what his lide? That mirdy this dudgetions?\n",
            "\n",
            "KING ARINIA:\n",
            "I let holt not sucKether,\n",
            "Whither, efore But lord: I, beget because at that his say\n",
            "as to brought grave a donesmer all nobe.\n",
            "\n",
            "BUCKINGHUMBY:\n",
            "Which forgeled! Came; nor thereforn's fiends strefet.\n",
            "\n",
            "PLORIA:\n",
            "Yet to Capprohning, that brird\n",
            "of say mover a desrick.\n",
            "\n",
            "MO\n",
            "stompars, God the\n",
            "citchard is high.\n",
            "\n",
            "Seth Second Methere:\n",
            "Marrmat I unmale the bretcius unfoect that I would back where own thy lurges\n",
            "And, iffillimorture:\n",
            "As thou twand, York these that high praut.\n",
            "Plafe merprates sure dread with her,\n",
            "At not your must I suchon? too prant!\n",
            "O 'hiles clight the bleave is graved before\n"
          ]
        }
      ]
    },
    {
      "cell_type": "code",
      "source": [],
      "metadata": {
        "id": "fjjvMifYZf7x"
      },
      "execution_count": null,
      "outputs": []
    }
  ]
}